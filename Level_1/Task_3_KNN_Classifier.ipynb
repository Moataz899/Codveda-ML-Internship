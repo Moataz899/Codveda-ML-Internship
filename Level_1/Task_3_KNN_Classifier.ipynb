{
  "cells": [
    {
      "cell_type": "markdown",
      "id": "c5a5e558",
      "metadata": {
        "id": "c5a5e558"
      },
      "source": [
        "\n",
        "\n",
        ">  ## ***`Task 3: Implement K-Nearest Neighbors (KNN) Classifier`*** ##\n",
        "\n",
        "---\n",
        "```Description:```\n",
        "\n",
        "`Build a KNN classifier to classify data points into categories.`\n",
        "\n",
        "\n",
        "\n",
        "---\n",
        "```Objectives:```\n",
        "\n",
        "```\n",
        "1. Train a KNN model on a labeled dataset.\n",
        "2. Evaluate the performance using accuracy, confusion matrix, and precision/recall.\n",
        "3. Use different values of K and compare the results.\n",
        "```\n",
        "\n",
        "---\n",
        "\n",
        "`Tools: Python, scikit-learn, pandas.`\n",
        "\n",
        "`Using Iris dataset.`"
      ]
    },
    {
      "cell_type": "markdown",
      "id": "0319240a",
      "metadata": {
        "id": "0319240a"
      },
      "source": [
        "### ***1- Import pre-processing libs*** ###"
      ]
    },
    {
      "cell_type": "code",
      "execution_count": 1,
      "id": "1d152c8b",
      "metadata": {
        "id": "1d152c8b"
      },
      "outputs": [],
      "source": [
        "import pandas as pd\n",
        "import numpy as np\n",
        "import matplotlib.pyplot as plt\n",
        "import seaborn as sns\n",
        "\n",
        "import warnings\n",
        "warnings.filterwarnings(\"ignore\")\n",
        "\n",
        "from sklearn.preprocessing import StandardScaler\n",
        "from sklearn.neighbors import KNeighborsClassifier\n",
        "from sklearn.model_selection import train_test_split\n",
        "from sklearn.metrics import accuracy_score, confusion_matrix, classification_report, precision_score, recall_score, f1_score\n"
      ]
    },
    {
      "cell_type": "markdown",
      "id": "a848a060",
      "metadata": {
        "id": "a848a060"
      },
      "source": [
        "### ***2- Import and Load Data*** ###"
      ]
    },
    {
      "cell_type": "code",
      "execution_count": 2,
      "id": "503fea2a",
      "metadata": {
        "id": "503fea2a"
      },
      "outputs": [],
      "source": [
        "df = pd.read_csv(r'D:\\Abdelraouf\\Quran\\Codveda-ML-Internship\\DataSet-For-Tasks\\1_iris.csv')"
      ]
    },
    {
      "cell_type": "markdown",
      "id": "efe79199",
      "metadata": {
        "id": "efe79199"
      },
      "source": [
        "### ***3- Exploring Data*** ###"
      ]
    },
    {
      "cell_type": "code",
      "execution_count": 3,
      "id": "bd9fceb2",
      "metadata": {
        "id": "bd9fceb2",
        "outputId": "b243b942-b0b0-43b5-8d0e-4b90e5ab0d8a"
      },
      "outputs": [
        {
          "data": {
            "application/vnd.microsoft.datawrangler.viewer.v0+json": {
              "columns": [
                {
                  "name": "index",
                  "rawType": "int64",
                  "type": "integer"
                },
                {
                  "name": "sepal_length",
                  "rawType": "float64",
                  "type": "float"
                },
                {
                  "name": "sepal_width",
                  "rawType": "float64",
                  "type": "float"
                },
                {
                  "name": "petal_length",
                  "rawType": "float64",
                  "type": "float"
                },
                {
                  "name": "petal_width",
                  "rawType": "float64",
                  "type": "float"
                },
                {
                  "name": "species",
                  "rawType": "object",
                  "type": "string"
                }
              ],
              "ref": "7f3d14be-f796-45d8-a557-a498beceae96",
              "rows": [
                [
                  "0",
                  "5.1",
                  "3.5",
                  "1.4",
                  "0.2",
                  "setosa"
                ],
                [
                  "1",
                  "4.9",
                  "3.0",
                  "1.4",
                  "0.2",
                  "setosa"
                ],
                [
                  "2",
                  "4.7",
                  "3.2",
                  "1.3",
                  "0.2",
                  "setosa"
                ],
                [
                  "3",
                  "4.6",
                  "3.1",
                  "1.5",
                  "0.2",
                  "setosa"
                ],
                [
                  "4",
                  "5.0",
                  "3.6",
                  "1.4",
                  "0.2",
                  "setosa"
                ]
              ],
              "shape": {
                "columns": 5,
                "rows": 5
              }
            },
            "text/html": [
              "<div>\n",
              "<style scoped>\n",
              "    .dataframe tbody tr th:only-of-type {\n",
              "        vertical-align: middle;\n",
              "    }\n",
              "\n",
              "    .dataframe tbody tr th {\n",
              "        vertical-align: top;\n",
              "    }\n",
              "\n",
              "    .dataframe thead th {\n",
              "        text-align: right;\n",
              "    }\n",
              "</style>\n",
              "<table border=\"1\" class=\"dataframe\">\n",
              "  <thead>\n",
              "    <tr style=\"text-align: right;\">\n",
              "      <th></th>\n",
              "      <th>sepal_length</th>\n",
              "      <th>sepal_width</th>\n",
              "      <th>petal_length</th>\n",
              "      <th>petal_width</th>\n",
              "      <th>species</th>\n",
              "    </tr>\n",
              "  </thead>\n",
              "  <tbody>\n",
              "    <tr>\n",
              "      <th>0</th>\n",
              "      <td>5.1</td>\n",
              "      <td>3.5</td>\n",
              "      <td>1.4</td>\n",
              "      <td>0.2</td>\n",
              "      <td>setosa</td>\n",
              "    </tr>\n",
              "    <tr>\n",
              "      <th>1</th>\n",
              "      <td>4.9</td>\n",
              "      <td>3.0</td>\n",
              "      <td>1.4</td>\n",
              "      <td>0.2</td>\n",
              "      <td>setosa</td>\n",
              "    </tr>\n",
              "    <tr>\n",
              "      <th>2</th>\n",
              "      <td>4.7</td>\n",
              "      <td>3.2</td>\n",
              "      <td>1.3</td>\n",
              "      <td>0.2</td>\n",
              "      <td>setosa</td>\n",
              "    </tr>\n",
              "    <tr>\n",
              "      <th>3</th>\n",
              "      <td>4.6</td>\n",
              "      <td>3.1</td>\n",
              "      <td>1.5</td>\n",
              "      <td>0.2</td>\n",
              "      <td>setosa</td>\n",
              "    </tr>\n",
              "    <tr>\n",
              "      <th>4</th>\n",
              "      <td>5.0</td>\n",
              "      <td>3.6</td>\n",
              "      <td>1.4</td>\n",
              "      <td>0.2</td>\n",
              "      <td>setosa</td>\n",
              "    </tr>\n",
              "  </tbody>\n",
              "</table>\n",
              "</div>"
            ],
            "text/plain": [
              "   sepal_length  sepal_width  petal_length  petal_width species\n",
              "0           5.1          3.5           1.4          0.2  setosa\n",
              "1           4.9          3.0           1.4          0.2  setosa\n",
              "2           4.7          3.2           1.3          0.2  setosa\n",
              "3           4.6          3.1           1.5          0.2  setosa\n",
              "4           5.0          3.6           1.4          0.2  setosa"
            ]
          },
          "execution_count": 3,
          "metadata": {},
          "output_type": "execute_result"
        }
      ],
      "source": [
        "df.head()"
      ]
    },
    {
      "cell_type": "code",
      "execution_count": 4,
      "id": "07e946e8",
      "metadata": {
        "id": "07e946e8",
        "outputId": "4206b383-3163-463c-9d6e-529b0b6cf0f9"
      },
      "outputs": [
        {
          "data": {
            "application/vnd.microsoft.datawrangler.viewer.v0+json": {
              "columns": [
                {
                  "name": "index",
                  "rawType": "int64",
                  "type": "integer"
                },
                {
                  "name": "sepal_length",
                  "rawType": "float64",
                  "type": "float"
                },
                {
                  "name": "sepal_width",
                  "rawType": "float64",
                  "type": "float"
                },
                {
                  "name": "petal_length",
                  "rawType": "float64",
                  "type": "float"
                },
                {
                  "name": "petal_width",
                  "rawType": "float64",
                  "type": "float"
                },
                {
                  "name": "species",
                  "rawType": "object",
                  "type": "string"
                }
              ],
              "ref": "403a037d-0218-4451-8ab1-e295c6e1191b",
              "rows": [
                [
                  "145",
                  "6.7",
                  "3.0",
                  "5.2",
                  "2.3",
                  "virginica"
                ],
                [
                  "146",
                  "6.3",
                  "2.5",
                  "5.0",
                  "1.9",
                  "virginica"
                ],
                [
                  "147",
                  "6.5",
                  "3.0",
                  "5.2",
                  "2.0",
                  "virginica"
                ],
                [
                  "148",
                  "6.2",
                  "3.4",
                  "5.4",
                  "2.3",
                  "virginica"
                ],
                [
                  "149",
                  "5.9",
                  "3.0",
                  "5.1",
                  "1.8",
                  "virginica"
                ]
              ],
              "shape": {
                "columns": 5,
                "rows": 5
              }
            },
            "text/html": [
              "<div>\n",
              "<style scoped>\n",
              "    .dataframe tbody tr th:only-of-type {\n",
              "        vertical-align: middle;\n",
              "    }\n",
              "\n",
              "    .dataframe tbody tr th {\n",
              "        vertical-align: top;\n",
              "    }\n",
              "\n",
              "    .dataframe thead th {\n",
              "        text-align: right;\n",
              "    }\n",
              "</style>\n",
              "<table border=\"1\" class=\"dataframe\">\n",
              "  <thead>\n",
              "    <tr style=\"text-align: right;\">\n",
              "      <th></th>\n",
              "      <th>sepal_length</th>\n",
              "      <th>sepal_width</th>\n",
              "      <th>petal_length</th>\n",
              "      <th>petal_width</th>\n",
              "      <th>species</th>\n",
              "    </tr>\n",
              "  </thead>\n",
              "  <tbody>\n",
              "    <tr>\n",
              "      <th>145</th>\n",
              "      <td>6.7</td>\n",
              "      <td>3.0</td>\n",
              "      <td>5.2</td>\n",
              "      <td>2.3</td>\n",
              "      <td>virginica</td>\n",
              "    </tr>\n",
              "    <tr>\n",
              "      <th>146</th>\n",
              "      <td>6.3</td>\n",
              "      <td>2.5</td>\n",
              "      <td>5.0</td>\n",
              "      <td>1.9</td>\n",
              "      <td>virginica</td>\n",
              "    </tr>\n",
              "    <tr>\n",
              "      <th>147</th>\n",
              "      <td>6.5</td>\n",
              "      <td>3.0</td>\n",
              "      <td>5.2</td>\n",
              "      <td>2.0</td>\n",
              "      <td>virginica</td>\n",
              "    </tr>\n",
              "    <tr>\n",
              "      <th>148</th>\n",
              "      <td>6.2</td>\n",
              "      <td>3.4</td>\n",
              "      <td>5.4</td>\n",
              "      <td>2.3</td>\n",
              "      <td>virginica</td>\n",
              "    </tr>\n",
              "    <tr>\n",
              "      <th>149</th>\n",
              "      <td>5.9</td>\n",
              "      <td>3.0</td>\n",
              "      <td>5.1</td>\n",
              "      <td>1.8</td>\n",
              "      <td>virginica</td>\n",
              "    </tr>\n",
              "  </tbody>\n",
              "</table>\n",
              "</div>"
            ],
            "text/plain": [
              "     sepal_length  sepal_width  petal_length  petal_width    species\n",
              "145           6.7          3.0           5.2          2.3  virginica\n",
              "146           6.3          2.5           5.0          1.9  virginica\n",
              "147           6.5          3.0           5.2          2.0  virginica\n",
              "148           6.2          3.4           5.4          2.3  virginica\n",
              "149           5.9          3.0           5.1          1.8  virginica"
            ]
          },
          "execution_count": 4,
          "metadata": {},
          "output_type": "execute_result"
        }
      ],
      "source": [
        "df.tail()"
      ]
    },
    {
      "cell_type": "code",
      "execution_count": null,
      "id": "69c435a7",
      "metadata": {
        "id": "69c435a7",
        "outputId": "5aa0e31c-6c01-4009-e0e3-ac6541d62914"
      },
      "outputs": [
        {
          "name": "stdout",
          "output_type": "stream",
          "text": [
            "<class 'pandas.core.frame.DataFrame'>\n",
            "RangeIndex: 150 entries, 0 to 149\n",
            "Data columns (total 5 columns):\n",
            " #   Column        Non-Null Count  Dtype  \n",
            "---  ------        --------------  -----  \n",
            " 0   sepal_length  150 non-null    float64\n",
            " 1   sepal_width   150 non-null    float64\n",
            " 2   petal_length  150 non-null    float64\n",
            " 3   petal_width   150 non-null    float64\n",
            " 4   species       150 non-null    object \n",
            "dtypes: float64(4), object(1)\n",
            "memory usage: 6.0+ KB\n",
            "None\n"
          ]
        }
      ],
      "source": [
        "print(df.info())"
      ]
    },
    {
      "cell_type": "code",
      "execution_count": 6,
      "id": "40c894dc",
      "metadata": {},
      "outputs": [
        {
          "name": "stdout",
          "output_type": "stream",
          "text": [
            "Missing Values:\n",
            " sepal_length    0\n",
            "sepal_width     0\n",
            "petal_length    0\n",
            "petal_width     0\n",
            "species         0\n",
            "dtype: int64\n"
          ]
        }
      ],
      "source": [
        "print(\"Missing Values:\\n\", df.isnull().sum())"
      ]
    },
    {
      "cell_type": "code",
      "execution_count": 7,
      "id": "d7501610",
      "metadata": {},
      "outputs": [
        {
          "name": "stdout",
          "output_type": "stream",
          "text": [
            "Duplicate Rows: 3\n"
          ]
        }
      ],
      "source": [
        "print(\"Duplicate Rows:\", df.duplicated().sum())"
      ]
    },
    {
      "cell_type": "markdown",
      "id": "new-cell-1",
      "metadata": {
        "id": "new-cell-1"
      },
      "source": [
        "### ***4- Data Preprocessing*** ###"
      ]
    },
    {
      "cell_type": "code",
      "execution_count": null,
      "id": "new-cell-2",
      "metadata": {
        "id": "new-cell-2"
      },
      "outputs": [],
      "source": [
        "X = df[['sepal_length', 'sepal_width', 'petal_length', 'petal_width']]\n",
        "y = df['species']"
      ]
    },
    {
      "cell_type": "code",
      "execution_count": null,
      "id": "ccec3a69",
      "metadata": {},
      "outputs": [],
      "source": [
        "X_train, X_test, y_train, y_test = train_test_split(X, y, test_size=0.2, random_state=42)"
      ]
    },
    {
      "cell_type": "code",
      "execution_count": null,
      "id": "ce889444",
      "metadata": {},
      "outputs": [],
      "source": [
        "scaler = StandardScaler()\n",
        "X_train = scaler.fit_transform(X_train)\n",
        "X_test = scaler.transform(X_test)"
      ]
    },
    {
      "cell_type": "markdown",
      "id": "new-cell-3",
      "metadata": {
        "id": "new-cell-3"
      },
      "source": [
        "### ***5- Train and Evaluate KNN Model*** ###"
      ]
    },
    {
      "cell_type": "code",
      "execution_count": null,
      "id": "new-cell-4",
      "metadata": {
        "id": "new-cell-4",
        "outputId": "b918d843-e1cb-438c-834d-a0daa36cd8f2"
      },
      "outputs": [
        {
          "name": "stdout",
          "output_type": "stream",
          "text": [
            "\n",
            "Classification Report for K=5:\n",
            "              precision    recall  f1-score   support\n",
            "\n",
            "      setosa       1.00      1.00      1.00        10\n",
            "  versicolor       1.00      1.00      1.00         9\n",
            "   virginica       1.00      1.00      1.00        11\n",
            "\n",
            "    accuracy                           1.00        30\n",
            "   macro avg       1.00      1.00      1.00        30\n",
            "weighted avg       1.00      1.00      1.00        30\n",
            "\n",
            "Results for different K values:\n",
            "    k  accuracy  precision  recall\n",
            "0   1       1.0        1.0     1.0\n",
            "1   3       1.0        1.0     1.0\n",
            "2   5       1.0        1.0     1.0\n",
            "3   7       1.0        1.0     1.0\n",
            "4   9       1.0        1.0     1.0\n",
            "5  11       1.0        1.0     1.0\n",
            "6  13       1.0        1.0     1.0\n",
            "7  15       1.0        1.0     1.0\n"
          ]
        }
      ],
      "source": [
        "k_values = [1, 3, 5, 7, 9, 11, 13, 15]\n",
        "results = []\n",
        "\n",
        "for k in k_values:\n",
        "    knn = KNeighborsClassifier(n_neighbors=k)\n",
        "    knn.fit(X_train, y_train)\n",
        "    y_pred = knn.predict(X_test)\n",
        "    accuracy = accuracy_score(y_test, y_pred)\n",
        "    precision = precision_score(y_test, y_pred, average='weighted')\n",
        "    recall = recall_score(y_test, y_pred, average='weighted')\n",
        "    results.append({'k': k, 'accuracy': accuracy, 'precision': precision, 'recall': recall})\n",
        "\n",
        "    if k == 5:\n",
        "        print(\"\\nClassification Report for K=5:\")\n",
        "        print(classification_report(y_test, y_pred, target_names=df['species'].unique()))\n",
        "\n",
        "results_df = pd.DataFrame(results)\n",
        "print(\"Results for different K values:\")\n",
        "print(results_df)"
      ]
    },
    {
      "cell_type": "code",
      "execution_count": null,
      "id": "5ba4f463",
      "metadata": {},
      "outputs": [
        {
          "data": {
            "image/png": "[encoded data removed]",
            "text/plain": [
              "<Figure size 800x600 with 2 Axes>"
            ]
          },
          "metadata": {},
          "output_type": "display_data"
        }
      ],
      "source": [
        "knn = KNeighborsClassifier(n_neighbors=5)\n",
        "knn.fit(X_train, y_train)\n",
        "y_pred = knn.predict(X_test)\n",
        "cm = confusion_matrix(y_test, y_pred)\n",
        "plt.figure(figsize=(8, 6))\n",
        "sns.heatmap(cm, annot=True, fmt='d', cmap='Blues', xticklabels=df['species'].unique(), yticklabels=df['species'].unique())\n",
        "plt.title('Confusion Matrix for KNN (K=5)')\n",
        "plt.xlabel('Predicted')\n",
        "plt.ylabel('Actual')\n",
        "plt.show()"
      ]
    },
    {
      "cell_type": "markdown",
      "id": "new-cell-5",
      "metadata": {
        "id": "new-cell-5"
      },
      "source": [
        "### ***6- Visualize Performance Metrics*** ###"
      ]
    },
    {
      "cell_type": "code",
      "execution_count": 13,
      "id": "653b20f2",
      "metadata": {
        "id": "653b20f2",
        "outputId": "f6bc4082-d6a3-42ce-fa05-075c1ad55c56"
      },
      "outputs": [
        {
          "data": {
            "image/png": "[encoded data removed]",
            "text/plain": [
              "<Figure size 1000x600 with 1 Axes>"
            ]
          },
          "metadata": {},
          "output_type": "display_data"
        }
      ],
      "source": [
        "plt.figure(figsize=(10, 6))\n",
        "plt.plot(results_df['k'], results_df['accuracy'], marker='o', label='Accuracy')\n",
        "plt.plot(results_df['k'], results_df['precision'], marker='s', label='Precision')\n",
        "plt.plot(results_df['k'], results_df['recall'], marker='^', label='Recall')\n",
        "plt.title('KNN Performance Metrics vs. K')\n",
        "plt.xlabel('Number of Neighbors (K)')\n",
        "plt.ylabel('Score')\n",
        "plt.xticks(k_values)\n",
        "plt.legend()\n",
        "plt.grid(True)\n",
        "plt.tight_layout()\n",
        "plt.show()"
      ]
    },
    {
      "cell_type": "markdown",
      "id": "2pdfRyq_FNbI",
      "metadata": {
        "id": "2pdfRyq_FNbI"
      },
      "source": [
        "## ***`Conclusion`*** ##\n",
        "\n",
        "**In this notebook, we successfully implemented a K-Nearest Neighbors (KNN) classifier using the Iris dataset. The main steps included:**\n",
        "\n",
        "---\n",
        "\n",
        "```\n",
        "1. Loaded and explored the Iris dataset, checking for missing and duplicate values.\n",
        "2. Selected relevant features and the target variable for classification.\n",
        "3. Split the data into training and testing sets to evaluate model performance.\n",
        "4. Scaled the features to ensure fair distance calculations for KNN.\n",
        "5. Trained a KNN classifier using scikit-learn and evaluated it using accuracy, precision, recall, and F1-score.\n",
        "6. Visualized the confusion matrix to interpret classification results.\n",
        "7. Compared model performance for different values of K and visualized the results.\n",
        "```\n",
        "\n",
        "---\n",
        "\n",
        "**These steps ensured the data was clean and suitable for classification, and allowed us to assess the effectiveness of the KNN algorithm for multi-class classification tasks. The results show high performance across different K values, with K=5 providing a good balance of accuracy, precision, and recall.**"
      ]
    }
  ],
  "metadata": {
    "colab": {
      "provenance": []
    },
    "kernelspec": {
      "display_name": "base",
      "language": "python",
      "name": "python3"
    },
    "language_info": {
      "codemirror_mode": {
        "name": "ipython",
        "version": 3
      },
      "file_extension": ".py",
      "mimetype": "text/x-python",
      "name": "python",
      "nbconvert_exporter": "python",
      "pygments_lexer": "ipython3",
      "version": "3.12.4"
    }
  },
  "nbformat": 4,
  "nbformat_minor": 5
}
