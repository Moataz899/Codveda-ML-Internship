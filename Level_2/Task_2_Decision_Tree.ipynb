{
  "cells": [
    {
      "cell_type": "markdown",
      "id": "c5a5e558",
      "metadata": {
        "id": "c5a5e558"
      },
      "source": [
        "\n",
        "\n",
        ">  ## ***` Task 2: Decision Trees for Classification`*** ##\n",
        "\n",
        "---\n",
        "```Description:```\n",
        "\n",
        "`Build a decision tree classifier to predict a categorical outcome (e.g., predict species of flowers).`\n",
        "\n",
        "---\n",
        "```Objectives:```\n",
        "\n",
        "```\n",
        "1. Train a decision tree on a labeled dataset (e.g., the Iris dataset).\n",
        "2. Visualize the tree structure.\n",
        "3. Prune the tree to prevent overfitting.\n",
        "4. Evaluate the model using classification metrics such as\n",
        "   accuracy and F1-score.\n",
        "```\n",
        "\n",
        "---\n",
        "\n",
        "`Tools: Python, scikit-learn, pandas.`\n",
        "\n",
        "`Using Iris dataset.`"
      ]
    },
    {
      "cell_type": "markdown",
      "id": "0319240a",
      "metadata": {
        "id": "0319240a"
      },
      "source": [
        "### ***1- Import pre-processing libs*** ###"
      ]
    },
    {
      "cell_type": "code",
      "execution_count": 2,
      "id": "1d152c8b",
      "metadata": {
        "id": "1d152c8b"
      },
      "outputs": [],
      "source": [
        "import pandas as pd\n",
        "import numpy as np\n",
        "import matplotlib.pyplot as plt\n",
        "import seaborn as sns\n",
        "\n",
        "import warnings\n",
        "warnings.filterwarnings(\"ignore\")\n",
        "\n",
        "from sklearn.preprocessing import StandardScaler\n",
        "from sklearn.preprocessing import LabelEncoder\n",
        "from sklearn.model_selection import train_test_split\n",
        "\n",
        "from sklearn.tree import DecisionTreeClassifier, plot_tree\n",
        "from sklearn.metrics import accuracy_score, confusion_matrix, classification_report, precision_score, recall_score, f1_score\n"
      ]
    },
    {
      "cell_type": "markdown",
      "id": "a848a060",
      "metadata": {
        "id": "a848a060"
      },
      "source": [
        "### ***2- Import and Load Data*** ###"
      ]
    },
    {
      "cell_type": "code",
      "execution_count": 3,
      "id": "503fea2a",
      "metadata": {
        "id": "503fea2a"
      },
      "outputs": [],
      "source": [
        "df = pd.read_csv(r'D:\\Abdelraouf\\Quran\\Codveda-ML-Internship\\DataSet-For-Tasks\\1_iris.csv')"
      ]
    },
    {
      "cell_type": "code",
      "execution_count": 4,
      "id": "3aa00820",
      "metadata": {},
      "outputs": [
        {
          "data": {
            "application/vnd.microsoft.datawrangler.viewer.v0+json": {
              "columns": [
                {
                  "name": "index",
                  "rawType": "int64",
                  "type": "integer"
                },
                {
                  "name": "sepal_length",
                  "rawType": "float64",
                  "type": "float"
                },
                {
                  "name": "sepal_width",
                  "rawType": "float64",
                  "type": "float"
                },
                {
                  "name": "petal_length",
                  "rawType": "float64",
                  "type": "float"
                },
                {
                  "name": "petal_width",
                  "rawType": "float64",
                  "type": "float"
                },
                {
                  "name": "species",
                  "rawType": "object",
                  "type": "string"
                }
              ],
              "ref": "0a1331f1-dac2-471b-b059-e35604d9d91f",
              "rows": [
                [
                  "0",
                  "5.1",
                  "3.5",
                  "1.4",
                  "0.2",
                  "setosa"
                ],
                [
                  "1",
                  "4.9",
                  "3.0",
                  "1.4",
                  "0.2",
                  "setosa"
                ],
                [
                  "2",
                  "4.7",
                  "3.2",
                  "1.3",
                  "0.2",
                  "setosa"
                ],
                [
                  "3",
                  "4.6",
                  "3.1",
                  "1.5",
                  "0.2",
                  "setosa"
                ],
                [
                  "4",
                  "5.0",
                  "3.6",
                  "1.4",
                  "0.2",
                  "setosa"
                ],
                [
                  "5",
                  "5.4",
                  "3.9",
                  "1.7",
                  "0.4",
                  "setosa"
                ],
                [
                  "6",
                  "4.6",
                  "3.4",
                  "1.4",
                  "0.3",
                  "setosa"
                ],
                [
                  "7",
                  "5.0",
                  "3.4",
                  "1.5",
                  "0.2",
                  "setosa"
                ],
                [
                  "8",
                  "4.4",
                  "2.9",
                  "1.4",
                  "0.2",
                  "setosa"
                ],
                [
                  "9",
                  "4.9",
                  "3.1",
                  "1.5",
                  "0.1",
                  "setosa"
                ],
                [
                  "10",
                  "5.4",
                  "3.7",
                  "1.5",
                  "0.2",
                  "setosa"
                ],
                [
                  "11",
                  "4.8",
                  "3.4",
                  "1.6",
                  "0.2",
                  "setosa"
                ],
                [
                  "12",
                  "4.8",
                  "3.0",
                  "1.4",
                  "0.1",
                  "setosa"
                ],
                [
                  "13",
                  "4.3",
                  "3.0",
                  "1.1",
                  "0.1",
                  "setosa"
                ],
                [
                  "14",
                  "5.8",
                  "4.0",
                  "1.2",
                  "0.2",
                  "setosa"
                ],
                [
                  "15",
                  "5.7",
                  "4.4",
                  "1.5",
                  "0.4",
                  "setosa"
                ],
                [
                  "16",
                  "5.4",
                  "3.9",
                  "1.3",
                  "0.4",
                  "setosa"
                ],
                [
                  "17",
                  "5.1",
                  "3.5",
                  "1.4",
                  "0.3",
                  "setosa"
                ],
                [
                  "18",
                  "5.7",
                  "3.8",
                  "1.7",
                  "0.3",
                  "setosa"
                ],
                [
                  "19",
                  "5.1",
                  "3.8",
                  "1.5",
                  "0.3",
                  "setosa"
                ],
                [
                  "20",
                  "5.4",
                  "3.4",
                  "1.7",
                  "0.2",
                  "setosa"
                ],
                [
                  "21",
                  "5.1",
                  "3.7",
                  "1.5",
                  "0.4",
                  "setosa"
                ],
                [
                  "22",
                  "4.6",
                  "3.6",
                  "1.0",
                  "0.2",
                  "setosa"
                ],
                [
                  "23",
                  "5.1",
                  "3.3",
                  "1.7",
                  "0.5",
                  "setosa"
                ],
                [
                  "24",
                  "4.8",
                  "3.4",
                  "1.9",
                  "0.2",
                  "setosa"
                ],
                [
                  "25",
                  "5.0",
                  "3.0",
                  "1.6",
                  "0.2",
                  "setosa"
                ],
                [
                  "26",
                  "5.0",
                  "3.4",
                  "1.6",
                  "0.4",
                  "setosa"
                ],
                [
                  "27",
                  "5.2",
                  "3.5",
                  "1.5",
                  "0.2",
                  "setosa"
                ],
                [
                  "28",
                  "5.2",
                  "3.4",
                  "1.4",
                  "0.2",
                  "setosa"
                ],
                [
                  "29",
                  "4.7",
                  "3.2",
                  "1.6",
                  "0.2",
                  "setosa"
                ],
                [
                  "30",
                  "4.8",
                  "3.1",
                  "1.6",
                  "0.2",
                  "setosa"
                ],
                [
                  "31",
                  "5.4",
                  "3.4",
                  "1.5",
                  "0.4",
                  "setosa"
                ],
                [
                  "32",
                  "5.2",
                  "4.1",
                  "1.5",
                  "0.1",
                  "setosa"
                ],
                [
                  "33",
                  "5.5",
                  "4.2",
                  "1.4",
                  "0.2",
                  "setosa"
                ],
                [
                  "34",
                  "4.9",
                  "3.1",
                  "1.5",
                  "0.1",
                  "setosa"
                ],
                [
                  "35",
                  "5.0",
                  "3.2",
                  "1.2",
                  "0.2",
                  "setosa"
                ],
                [
                  "36",
                  "5.5",
                  "3.5",
                  "1.3",
                  "0.2",
                  "setosa"
                ],
                [
                  "37",
                  "4.9",
                  "3.1",
                  "1.5",
                  "0.1",
                  "setosa"
                ],
                [
                  "38",
                  "4.4",
                  "3.0",
                  "1.3",
                  "0.2",
                  "setosa"
                ],
                [
                  "39",
                  "5.1",
                  "3.4",
                  "1.5",
                  "0.2",
                  "setosa"
                ],
                [
                  "40",
                  "5.0",
                  "3.5",
                  "1.3",
                  "0.3",
                  "setosa"
                ],
                [
                  "41",
                  "4.5",
                  "2.3",
                  "1.3",
                  "0.3",
                  "setosa"
                ],
                [
                  "42",
                  "4.4",
                  "3.2",
                  "1.3",
                  "0.2",
                  "setosa"
                ],
                [
                  "43",
                  "5.0",
                  "3.5",
                  "1.6",
                  "0.6",
                  "setosa"
                ],
                [
                  "44",
                  "5.1",
                  "3.8",
                  "1.9",
                  "0.4",
                  "setosa"
                ],
                [
                  "45",
                  "4.8",
                  "3.0",
                  "1.4",
                  "0.3",
                  "setosa"
                ],
                [
                  "46",
                  "5.1",
                  "3.8",
                  "1.6",
                  "0.2",
                  "setosa"
                ],
                [
                  "47",
                  "4.6",
                  "3.2",
                  "1.4",
                  "0.2",
                  "setosa"
                ],
                [
                  "48",
                  "5.3",
                  "3.7",
                  "1.5",
                  "0.2",
                  "setosa"
                ],
                [
                  "49",
                  "5.0",
                  "3.3",
                  "1.4",
                  "0.2",
                  "setosa"
                ]
              ],
              "shape": {
                "columns": 5,
                "rows": 150
              }
            },
            "text/html": [
              "<div>\n",
              "<style scoped>\n",
              "    .dataframe tbody tr th:only-of-type {\n",
              "        vertical-align: middle;\n",
              "    }\n",
              "\n",
              "    .dataframe tbody tr th {\n",
              "        vertical-align: top;\n",
              "    }\n",
              "\n",
              "    .dataframe thead th {\n",
              "        text-align: right;\n",
              "    }\n",
              "</style>\n",
              "<table border=\"1\" class=\"dataframe\">\n",
              "  <thead>\n",
              "    <tr style=\"text-align: right;\">\n",
              "      <th></th>\n",
              "      <th>sepal_length</th>\n",
              "      <th>sepal_width</th>\n",
              "      <th>petal_length</th>\n",
              "      <th>petal_width</th>\n",
              "      <th>species</th>\n",
              "    </tr>\n",
              "  </thead>\n",
              "  <tbody>\n",
              "    <tr>\n",
              "      <th>0</th>\n",
              "      <td>5.1</td>\n",
              "      <td>3.5</td>\n",
              "      <td>1.4</td>\n",
              "      <td>0.2</td>\n",
              "      <td>setosa</td>\n",
              "    </tr>\n",
              "    <tr>\n",
              "      <th>1</th>\n",
              "      <td>4.9</td>\n",
              "      <td>3.0</td>\n",
              "      <td>1.4</td>\n",
              "      <td>0.2</td>\n",
              "      <td>setosa</td>\n",
              "    </tr>\n",
              "    <tr>\n",
              "      <th>2</th>\n",
              "      <td>4.7</td>\n",
              "      <td>3.2</td>\n",
              "      <td>1.3</td>\n",
              "      <td>0.2</td>\n",
              "      <td>setosa</td>\n",
              "    </tr>\n",
              "    <tr>\n",
              "      <th>3</th>\n",
              "      <td>4.6</td>\n",
              "      <td>3.1</td>\n",
              "      <td>1.5</td>\n",
              "      <td>0.2</td>\n",
              "      <td>setosa</td>\n",
              "    </tr>\n",
              "    <tr>\n",
              "      <th>4</th>\n",
              "      <td>5.0</td>\n",
              "      <td>3.6</td>\n",
              "      <td>1.4</td>\n",
              "      <td>0.2</td>\n",
              "      <td>setosa</td>\n",
              "    </tr>\n",
              "    <tr>\n",
              "      <th>...</th>\n",
              "      <td>...</td>\n",
              "      <td>...</td>\n",
              "      <td>...</td>\n",
              "      <td>...</td>\n",
              "      <td>...</td>\n",
              "    </tr>\n",
              "    <tr>\n",
              "      <th>145</th>\n",
              "      <td>6.7</td>\n",
              "      <td>3.0</td>\n",
              "      <td>5.2</td>\n",
              "      <td>2.3</td>\n",
              "      <td>virginica</td>\n",
              "    </tr>\n",
              "    <tr>\n",
              "      <th>146</th>\n",
              "      <td>6.3</td>\n",
              "      <td>2.5</td>\n",
              "      <td>5.0</td>\n",
              "      <td>1.9</td>\n",
              "      <td>virginica</td>\n",
              "    </tr>\n",
              "    <tr>\n",
              "      <th>147</th>\n",
              "      <td>6.5</td>\n",
              "      <td>3.0</td>\n",
              "      <td>5.2</td>\n",
              "      <td>2.0</td>\n",
              "      <td>virginica</td>\n",
              "    </tr>\n",
              "    <tr>\n",
              "      <th>148</th>\n",
              "      <td>6.2</td>\n",
              "      <td>3.4</td>\n",
              "      <td>5.4</td>\n",
              "      <td>2.3</td>\n",
              "      <td>virginica</td>\n",
              "    </tr>\n",
              "    <tr>\n",
              "      <th>149</th>\n",
              "      <td>5.9</td>\n",
              "      <td>3.0</td>\n",
              "      <td>5.1</td>\n",
              "      <td>1.8</td>\n",
              "      <td>virginica</td>\n",
              "    </tr>\n",
              "  </tbody>\n",
              "</table>\n",
              "<p>150 rows × 5 columns</p>\n",
              "</div>"
            ],
            "text/plain": [
              "     sepal_length  sepal_width  petal_length  petal_width    species\n",
              "0             5.1          3.5           1.4          0.2     setosa\n",
              "1             4.9          3.0           1.4          0.2     setosa\n",
              "2             4.7          3.2           1.3          0.2     setosa\n",
              "3             4.6          3.1           1.5          0.2     setosa\n",
              "4             5.0          3.6           1.4          0.2     setosa\n",
              "..            ...          ...           ...          ...        ...\n",
              "145           6.7          3.0           5.2          2.3  virginica\n",
              "146           6.3          2.5           5.0          1.9  virginica\n",
              "147           6.5          3.0           5.2          2.0  virginica\n",
              "148           6.2          3.4           5.4          2.3  virginica\n",
              "149           5.9          3.0           5.1          1.8  virginica\n",
              "\n",
              "[150 rows x 5 columns]"
            ]
          },
          "execution_count": 4,
          "metadata": {},
          "output_type": "execute_result"
        }
      ],
      "source": [
        "df"
      ]
    },
    {
      "cell_type": "markdown",
      "id": "efe79199",
      "metadata": {
        "id": "efe79199"
      },
      "source": [
        "### ***3- Exploring Data*** ###"
      ]
    },
    {
      "cell_type": "code",
      "execution_count": 5,
      "id": "bd9fceb2",
      "metadata": {
        "id": "bd9fceb2",
        "outputId": "b243b942-b0b0-43b5-8d0e-4b90e5ab0d8a"
      },
      "outputs": [
        {
          "data": {
            "application/vnd.microsoft.datawrangler.viewer.v0+json": {
              "columns": [
                {
                  "name": "index",
                  "rawType": "int64",
                  "type": "integer"
                },
                {
                  "name": "sepal_length",
                  "rawType": "float64",
                  "type": "float"
                },
                {
                  "name": "sepal_width",
                  "rawType": "float64",
                  "type": "float"
                },
                {
                  "name": "petal_length",
                  "rawType": "float64",
                  "type": "float"
                },
                {
                  "name": "petal_width",
                  "rawType": "float64",
                  "type": "float"
                },
                {
                  "name": "species",
                  "rawType": "object",
                  "type": "string"
                }
              ],
              "ref": "8da90ec3-1c4b-4c68-b6e0-0643a66b8eea",
              "rows": [
                [
                  "0",
                  "5.1",
                  "3.5",
                  "1.4",
                  "0.2",
                  "setosa"
                ],
                [
                  "1",
                  "4.9",
                  "3.0",
                  "1.4",
                  "0.2",
                  "setosa"
                ],
                [
                  "2",
                  "4.7",
                  "3.2",
                  "1.3",
                  "0.2",
                  "setosa"
                ],
                [
                  "3",
                  "4.6",
                  "3.1",
                  "1.5",
                  "0.2",
                  "setosa"
                ],
                [
                  "4",
                  "5.0",
                  "3.6",
                  "1.4",
                  "0.2",
                  "setosa"
                ]
              ],
              "shape": {
                "columns": 5,
                "rows": 5
              }
            },
            "text/html": [
              "<div>\n",
              "<style scoped>\n",
              "    .dataframe tbody tr th:only-of-type {\n",
              "        vertical-align: middle;\n",
              "    }\n",
              "\n",
              "    .dataframe tbody tr th {\n",
              "        vertical-align: top;\n",
              "    }\n",
              "\n",
              "    .dataframe thead th {\n",
              "        text-align: right;\n",
              "    }\n",
              "</style>\n",
              "<table border=\"1\" class=\"dataframe\">\n",
              "  <thead>\n",
              "    <tr style=\"text-align: right;\">\n",
              "      <th></th>\n",
              "      <th>sepal_length</th>\n",
              "      <th>sepal_width</th>\n",
              "      <th>petal_length</th>\n",
              "      <th>petal_width</th>\n",
              "      <th>species</th>\n",
              "    </tr>\n",
              "  </thead>\n",
              "  <tbody>\n",
              "    <tr>\n",
              "      <th>0</th>\n",
              "      <td>5.1</td>\n",
              "      <td>3.5</td>\n",
              "      <td>1.4</td>\n",
              "      <td>0.2</td>\n",
              "      <td>setosa</td>\n",
              "    </tr>\n",
              "    <tr>\n",
              "      <th>1</th>\n",
              "      <td>4.9</td>\n",
              "      <td>3.0</td>\n",
              "      <td>1.4</td>\n",
              "      <td>0.2</td>\n",
              "      <td>setosa</td>\n",
              "    </tr>\n",
              "    <tr>\n",
              "      <th>2</th>\n",
              "      <td>4.7</td>\n",
              "      <td>3.2</td>\n",
              "      <td>1.3</td>\n",
              "      <td>0.2</td>\n",
              "      <td>setosa</td>\n",
              "    </tr>\n",
              "    <tr>\n",
              "      <th>3</th>\n",
              "      <td>4.6</td>\n",
              "      <td>3.1</td>\n",
              "      <td>1.5</td>\n",
              "      <td>0.2</td>\n",
              "      <td>setosa</td>\n",
              "    </tr>\n",
              "    <tr>\n",
              "      <th>4</th>\n",
              "      <td>5.0</td>\n",
              "      <td>3.6</td>\n",
              "      <td>1.4</td>\n",
              "      <td>0.2</td>\n",
              "      <td>setosa</td>\n",
              "    </tr>\n",
              "  </tbody>\n",
              "</table>\n",
              "</div>"
            ],
            "text/plain": [
              "   sepal_length  sepal_width  petal_length  petal_width species\n",
              "0           5.1          3.5           1.4          0.2  setosa\n",
              "1           4.9          3.0           1.4          0.2  setosa\n",
              "2           4.7          3.2           1.3          0.2  setosa\n",
              "3           4.6          3.1           1.5          0.2  setosa\n",
              "4           5.0          3.6           1.4          0.2  setosa"
            ]
          },
          "execution_count": 5,
          "metadata": {},
          "output_type": "execute_result"
        }
      ],
      "source": [
        "df.head()"
      ]
    },
    {
      "cell_type": "code",
      "execution_count": 6,
      "id": "07e946e8",
      "metadata": {
        "id": "07e946e8",
        "outputId": "4206b383-3163-463c-9d6e-529b0b6cf0f9"
      },
      "outputs": [
        {
          "data": {
            "application/vnd.microsoft.datawrangler.viewer.v0+json": {
              "columns": [
                {
                  "name": "index",
                  "rawType": "int64",
                  "type": "integer"
                },
                {
                  "name": "sepal_length",
                  "rawType": "float64",
                  "type": "float"
                },
                {
                  "name": "sepal_width",
                  "rawType": "float64",
                  "type": "float"
                },
                {
                  "name": "petal_length",
                  "rawType": "float64",
                  "type": "float"
                },
                {
                  "name": "petal_width",
                  "rawType": "float64",
                  "type": "float"
                },
                {
                  "name": "species",
                  "rawType": "object",
                  "type": "string"
                }
              ],
              "ref": "ce7935b2-7fd5-4a7c-a4ac-5c171a3082c9",
              "rows": [
                [
                  "145",
                  "6.7",
                  "3.0",
                  "5.2",
                  "2.3",
                  "virginica"
                ],
                [
                  "146",
                  "6.3",
                  "2.5",
                  "5.0",
                  "1.9",
                  "virginica"
                ],
                [
                  "147",
                  "6.5",
                  "3.0",
                  "5.2",
                  "2.0",
                  "virginica"
                ],
                [
                  "148",
                  "6.2",
                  "3.4",
                  "5.4",
                  "2.3",
                  "virginica"
                ],
                [
                  "149",
                  "5.9",
                  "3.0",
                  "5.1",
                  "1.8",
                  "virginica"
                ]
              ],
              "shape": {
                "columns": 5,
                "rows": 5
              }
            },
            "text/html": [
              "<div>\n",
              "<style scoped>\n",
              "    .dataframe tbody tr th:only-of-type {\n",
              "        vertical-align: middle;\n",
              "    }\n",
              "\n",
              "    .dataframe tbody tr th {\n",
              "        vertical-align: top;\n",
              "    }\n",
              "\n",
              "    .dataframe thead th {\n",
              "        text-align: right;\n",
              "    }\n",
              "</style>\n",
              "<table border=\"1\" class=\"dataframe\">\n",
              "  <thead>\n",
              "    <tr style=\"text-align: right;\">\n",
              "      <th></th>\n",
              "      <th>sepal_length</th>\n",
              "      <th>sepal_width</th>\n",
              "      <th>petal_length</th>\n",
              "      <th>petal_width</th>\n",
              "      <th>species</th>\n",
              "    </tr>\n",
              "  </thead>\n",
              "  <tbody>\n",
              "    <tr>\n",
              "      <th>145</th>\n",
              "      <td>6.7</td>\n",
              "      <td>3.0</td>\n",
              "      <td>5.2</td>\n",
              "      <td>2.3</td>\n",
              "      <td>virginica</td>\n",
              "    </tr>\n",
              "    <tr>\n",
              "      <th>146</th>\n",
              "      <td>6.3</td>\n",
              "      <td>2.5</td>\n",
              "      <td>5.0</td>\n",
              "      <td>1.9</td>\n",
              "      <td>virginica</td>\n",
              "    </tr>\n",
              "    <tr>\n",
              "      <th>147</th>\n",
              "      <td>6.5</td>\n",
              "      <td>3.0</td>\n",
              "      <td>5.2</td>\n",
              "      <td>2.0</td>\n",
              "      <td>virginica</td>\n",
              "    </tr>\n",
              "    <tr>\n",
              "      <th>148</th>\n",
              "      <td>6.2</td>\n",
              "      <td>3.4</td>\n",
              "      <td>5.4</td>\n",
              "      <td>2.3</td>\n",
              "      <td>virginica</td>\n",
              "    </tr>\n",
              "    <tr>\n",
              "      <th>149</th>\n",
              "      <td>5.9</td>\n",
              "      <td>3.0</td>\n",
              "      <td>5.1</td>\n",
              "      <td>1.8</td>\n",
              "      <td>virginica</td>\n",
              "    </tr>\n",
              "  </tbody>\n",
              "</table>\n",
              "</div>"
            ],
            "text/plain": [
              "     sepal_length  sepal_width  petal_length  petal_width    species\n",
              "145           6.7          3.0           5.2          2.3  virginica\n",
              "146           6.3          2.5           5.0          1.9  virginica\n",
              "147           6.5          3.0           5.2          2.0  virginica\n",
              "148           6.2          3.4           5.4          2.3  virginica\n",
              "149           5.9          3.0           5.1          1.8  virginica"
            ]
          },
          "execution_count": 6,
          "metadata": {},
          "output_type": "execute_result"
        }
      ],
      "source": [
        "df.tail()"
      ]
    },
    {
      "cell_type": "code",
      "execution_count": 7,
      "id": "69c435a7",
      "metadata": {
        "id": "69c435a7",
        "outputId": "5aa0e31c-6c01-4009-e0e3-ac6541d62914"
      },
      "outputs": [
        {
          "name": "stdout",
          "output_type": "stream",
          "text": [
            "<class 'pandas.core.frame.DataFrame'>\n",
            "RangeIndex: 150 entries, 0 to 149\n",
            "Data columns (total 5 columns):\n",
            " #   Column        Non-Null Count  Dtype  \n",
            "---  ------        --------------  -----  \n",
            " 0   sepal_length  150 non-null    float64\n",
            " 1   sepal_width   150 non-null    float64\n",
            " 2   petal_length  150 non-null    float64\n",
            " 3   petal_width   150 non-null    float64\n",
            " 4   species       150 non-null    object \n",
            "dtypes: float64(4), object(1)\n",
            "memory usage: 6.0+ KB\n",
            "None\n"
          ]
        }
      ],
      "source": [
        "print(df.info())"
      ]
    },
    {
      "cell_type": "code",
      "execution_count": 8,
      "id": "40c894dc",
      "metadata": {},
      "outputs": [
        {
          "name": "stdout",
          "output_type": "stream",
          "text": [
            "Missing Values:\n",
            " sepal_length    0\n",
            "sepal_width     0\n",
            "petal_length    0\n",
            "petal_width     0\n",
            "species         0\n",
            "dtype: int64\n"
          ]
        }
      ],
      "source": [
        "print(\"Missing Values:\\n\", df.isnull().sum())"
      ]
    },
    {
      "cell_type": "code",
      "execution_count": 9,
      "id": "d7501610",
      "metadata": {},
      "outputs": [
        {
          "name": "stdout",
          "output_type": "stream",
          "text": [
            "Duplicate Rows: 3\n"
          ]
        }
      ],
      "source": [
        "print(\"Duplicate Rows:\", df.duplicated().sum())"
      ]
    },
    {
      "cell_type": "code",
      "execution_count": 10,
      "id": "5eb604ab",
      "metadata": {},
      "outputs": [
        {
          "data": {
            "text/plain": [
              "(150, 5)"
            ]
          },
          "execution_count": 10,
          "metadata": {},
          "output_type": "execute_result"
        }
      ],
      "source": [
        "df.shape"
      ]
    },
    {
      "cell_type": "code",
      "execution_count": 11,
      "id": "24d7c257",
      "metadata": {},
      "outputs": [
        {
          "data": {
            "image/png": "[encoded data removed]",
            "text/plain": [
              "<Figure size 1000x600 with 1 Axes>"
            ]
          },
          "metadata": {},
          "output_type": "display_data"
        }
      ],
      "source": [
        "fig = df[df.species=='setosa'].plot(kind='scatter', x='sepal_length', y='sepal_width', color='orange', label='Setosa')\n",
        "df[df.species=='versicolor'].plot(kind='scatter', x='sepal_length', y='sepal_width', color='blue', label='Versicolor', ax=fig)\n",
        "df[df.species=='virginica'].plot(kind='scatter', x='sepal_length', y='sepal_width', color='green', label='Virginica', ax=fig)\n",
        "\n",
        "fig.set_xlabel(\"Sepal Length\")\n",
        "fig.set_ylabel(\"Sepal Width\")\n",
        "fig.set_title(\"Sepal Length VS Width\")\n",
        "fig = plt.gcf()\n",
        "fig.set_size_inches(10,6)\n",
        "plt.show()"
      ]
    },
    {
      "cell_type": "code",
      "execution_count": 12,
      "id": "aa9fe2d7",
      "metadata": {},
      "outputs": [
        {
          "data": {
            "image/png": "[encoded data removed]",
            "text/plain": [
              "<Figure size 1000x600 with 1 Axes>"
            ]
          },
          "metadata": {},
          "output_type": "display_data"
        }
      ],
      "source": [
        "fig = df[df.species=='setosa'].plot(kind='scatter', x='petal_length', y='petal_width', color='orange', label='Setosa')\n",
        "df[df.species=='versicolor'].plot(kind='scatter', x='petal_length', y='petal_width', color='blue', label='Versicolor', ax=fig)\n",
        "df[df.species=='virginica'].plot(kind='scatter', x='petal_length', y='petal_width', color='green', label='Virginica', ax=fig)\n",
        "\n",
        "fig.set_xlabel(\"petal_length\")\n",
        "fig.set_ylabel(\"petal_width\")\n",
        "fig.set_title(\"petal_length VS Width\")\n",
        "fig = plt.gcf()\n",
        "fig.set_size_inches(10,6)\n",
        "plt.show()"
      ]
    },
    {
      "cell_type": "code",
      "execution_count": 13,
      "id": "3b57a0fd",
      "metadata": {},
      "outputs": [
        {
          "data": {
            "image/png": "[encoded data removed]",
            "text/plain": [
              "<Figure size 1200x600 with 4 Axes>"
            ]
          },
          "metadata": {},
          "output_type": "display_data"
        }
      ],
      "source": [
        "df.hist(edgecolor='black', linewidth=1.2)\n",
        "fig=plt.gcf()\n",
        "fig.set_size_inches(12,6)\n",
        "plt.show()"
      ]
    },
    {
      "cell_type": "code",
      "execution_count": 14,
      "id": "277ed8b2",
      "metadata": {},
      "outputs": [
        {
          "data": {
            "image/png": "[encoded data removed]",
            "text/plain": [
              "<Figure size 700x400 with 2 Axes>"
            ]
          },
          "metadata": {},
          "output_type": "display_data"
        }
      ],
      "source": [
        "plt.figure(figsize=(7,4))\n",
        "sns.heatmap(df.corr(numeric_only=True), annot=True, cmap='coolwarm', fmt='.2f')\n",
        "plt.title(\"Correlation Matrix\")\n",
        "plt.show()"
      ]
    },
    {
      "cell_type": "markdown",
      "id": "new-cell-1",
      "metadata": {
        "id": "new-cell-1"
      },
      "source": [
        "### ***4- Data Preprocessing*** ###"
      ]
    },
    {
      "cell_type": "code",
      "execution_count": 15,
      "id": "d63a5fba",
      "metadata": {},
      "outputs": [],
      "source": [
        "df = df.drop_duplicates() # Remove duplicate rows"
      ]
    },
    {
      "cell_type": "code",
      "execution_count": 16,
      "id": "949a8210",
      "metadata": {},
      "outputs": [
        {
          "data": {
            "text/plain": [
              "0"
            ]
          },
          "execution_count": 16,
          "metadata": {},
          "output_type": "execute_result"
        }
      ],
      "source": [
        "df.duplicated().sum()"
      ]
    },
    {
      "cell_type": "code",
      "execution_count": 17,
      "id": "8374b697",
      "metadata": {},
      "outputs": [
        {
          "data": {
            "text/plain": [
              "Index(['sepal_length', 'sepal_width', 'petal_length', 'petal_width',\n",
              "       'species'],\n",
              "      dtype='object')"
            ]
          },
          "execution_count": 17,
          "metadata": {},
          "output_type": "execute_result"
        }
      ],
      "source": [
        "df.columns"
      ]
    },
    {
      "cell_type": "code",
      "execution_count": 18,
      "id": "e098ae66",
      "metadata": {},
      "outputs": [
        {
          "data": {
            "application/vnd.microsoft.datawrangler.viewer.v0+json": {
              "columns": [
                {
                  "name": "index",
                  "rawType": "object",
                  "type": "string"
                },
                {
                  "name": "0",
                  "rawType": "object",
                  "type": "unknown"
                }
              ],
              "ref": "b988d14e-950e-4d39-aec2-576031a5b062",
              "rows": [
                [
                  "sepal_length",
                  "float64"
                ],
                [
                  "sepal_width",
                  "float64"
                ],
                [
                  "petal_length",
                  "float64"
                ],
                [
                  "petal_width",
                  "float64"
                ],
                [
                  "species",
                  "object"
                ]
              ],
              "shape": {
                "columns": 1,
                "rows": 5
              }
            },
            "text/plain": [
              "sepal_length    float64\n",
              "sepal_width     float64\n",
              "petal_length    float64\n",
              "petal_width     float64\n",
              "species          object\n",
              "dtype: object"
            ]
          },
          "execution_count": 18,
          "metadata": {},
          "output_type": "execute_result"
        }
      ],
      "source": [
        "df.dtypes"
      ]
    },
    {
      "cell_type": "markdown",
      "id": "c951e0f5",
      "metadata": {},
      "source": [
        "### ***5_ Data Encoding*** ###"
      ]
    },
    {
      "cell_type": "code",
      "execution_count": 19,
      "id": "8e83e46a",
      "metadata": {},
      "outputs": [],
      "source": [
        "le = LabelEncoder()\n",
        "df['species'] = le.fit_transform(df['species'])  # Encode species column"
      ]
    },
    {
      "cell_type": "code",
      "execution_count": 20,
      "id": "f3aa8de1",
      "metadata": {},
      "outputs": [
        {
          "data": {
            "application/vnd.microsoft.datawrangler.viewer.v0+json": {
              "columns": [
                {
                  "name": "index",
                  "rawType": "object",
                  "type": "string"
                },
                {
                  "name": "0",
                  "rawType": "object",
                  "type": "unknown"
                }
              ],
              "ref": "f07d0b7d-5ceb-4ba8-9ce4-447d6bd80c2b",
              "rows": [
                [
                  "sepal_length",
                  "float64"
                ],
                [
                  "sepal_width",
                  "float64"
                ],
                [
                  "petal_length",
                  "float64"
                ],
                [
                  "petal_width",
                  "float64"
                ],
                [
                  "species",
                  "int32"
                ]
              ],
              "shape": {
                "columns": 1,
                "rows": 5
              }
            },
            "text/plain": [
              "sepal_length    float64\n",
              "sepal_width     float64\n",
              "petal_length    float64\n",
              "petal_width     float64\n",
              "species           int32\n",
              "dtype: object"
            ]
          },
          "execution_count": 20,
          "metadata": {},
          "output_type": "execute_result"
        }
      ],
      "source": [
        "df.dtypes"
      ]
    },
    {
      "cell_type": "markdown",
      "id": "5684465d",
      "metadata": {},
      "source": [
        "### ***6_ Scaling Data*** ###"
      ]
    },
    {
      "cell_type": "code",
      "execution_count": 21,
      "id": "21844c2c",
      "metadata": {},
      "outputs": [],
      "source": [
        "sc = StandardScaler()\n",
        "df[['sepal_length', 'sepal_width', 'petal_length', 'petal_width']] = sc.fit_transform(df[['sepal_length', 'sepal_width', 'petal_length', 'petal_width']])"
      ]
    },
    {
      "cell_type": "code",
      "execution_count": 22,
      "id": "3066802f",
      "metadata": {},
      "outputs": [
        {
          "data": {
            "application/vnd.microsoft.datawrangler.viewer.v0+json": {
              "columns": [
                {
                  "name": "index",
                  "rawType": "int64",
                  "type": "integer"
                },
                {
                  "name": "sepal_length",
                  "rawType": "float64",
                  "type": "float"
                },
                {
                  "name": "sepal_width",
                  "rawType": "float64",
                  "type": "float"
                },
                {
                  "name": "petal_length",
                  "rawType": "float64",
                  "type": "float"
                },
                {
                  "name": "petal_width",
                  "rawType": "float64",
                  "type": "float"
                },
                {
                  "name": "species",
                  "rawType": "int32",
                  "type": "integer"
                }
              ],
              "ref": "4515cc77-404a-4010-baab-e8b04be45f24",
              "rows": [
                [
                  "0",
                  "-0.9155094885405356",
                  "1.019971404489066",
                  "-1.357736919867759",
                  "-1.3357000122338663",
                  "0"
                ],
                [
                  "1",
                  "-1.157559659071935",
                  "-0.1280821671793312",
                  "-1.357736919867759",
                  "-1.3357000122338663",
                  "0"
                ],
                [
                  "2",
                  "-1.3996098296033357",
                  "0.3311392614880281",
                  "-1.4147781680016716",
                  "-1.3357000122338663",
                  "0"
                ],
                [
                  "3",
                  "-1.5206349148690366",
                  "0.10152854715434842",
                  "-1.300695671733846",
                  "-1.3357000122338663",
                  "0"
                ],
                [
                  "4",
                  "-1.0365345738062353",
                  "1.2495821188227456",
                  "-1.357736919867759",
                  "-1.3357000122338663",
                  "0"
                ]
              ],
              "shape": {
                "columns": 5,
                "rows": 5
              }
            },
            "text/html": [
              "<div>\n",
              "<style scoped>\n",
              "    .dataframe tbody tr th:only-of-type {\n",
              "        vertical-align: middle;\n",
              "    }\n",
              "\n",
              "    .dataframe tbody tr th {\n",
              "        vertical-align: top;\n",
              "    }\n",
              "\n",
              "    .dataframe thead th {\n",
              "        text-align: right;\n",
              "    }\n",
              "</style>\n",
              "<table border=\"1\" class=\"dataframe\">\n",
              "  <thead>\n",
              "    <tr style=\"text-align: right;\">\n",
              "      <th></th>\n",
              "      <th>sepal_length</th>\n",
              "      <th>sepal_width</th>\n",
              "      <th>petal_length</th>\n",
              "      <th>petal_width</th>\n",
              "      <th>species</th>\n",
              "    </tr>\n",
              "  </thead>\n",
              "  <tbody>\n",
              "    <tr>\n",
              "      <th>0</th>\n",
              "      <td>-0.915509</td>\n",
              "      <td>1.019971</td>\n",
              "      <td>-1.357737</td>\n",
              "      <td>-1.3357</td>\n",
              "      <td>0</td>\n",
              "    </tr>\n",
              "    <tr>\n",
              "      <th>1</th>\n",
              "      <td>-1.157560</td>\n",
              "      <td>-0.128082</td>\n",
              "      <td>-1.357737</td>\n",
              "      <td>-1.3357</td>\n",
              "      <td>0</td>\n",
              "    </tr>\n",
              "    <tr>\n",
              "      <th>2</th>\n",
              "      <td>-1.399610</td>\n",
              "      <td>0.331139</td>\n",
              "      <td>-1.414778</td>\n",
              "      <td>-1.3357</td>\n",
              "      <td>0</td>\n",
              "    </tr>\n",
              "    <tr>\n",
              "      <th>3</th>\n",
              "      <td>-1.520635</td>\n",
              "      <td>0.101529</td>\n",
              "      <td>-1.300696</td>\n",
              "      <td>-1.3357</td>\n",
              "      <td>0</td>\n",
              "    </tr>\n",
              "    <tr>\n",
              "      <th>4</th>\n",
              "      <td>-1.036535</td>\n",
              "      <td>1.249582</td>\n",
              "      <td>-1.357737</td>\n",
              "      <td>-1.3357</td>\n",
              "      <td>0</td>\n",
              "    </tr>\n",
              "  </tbody>\n",
              "</table>\n",
              "</div>"
            ],
            "text/plain": [
              "   sepal_length  sepal_width  petal_length  petal_width  species\n",
              "0     -0.915509     1.019971     -1.357737      -1.3357        0\n",
              "1     -1.157560    -0.128082     -1.357737      -1.3357        0\n",
              "2     -1.399610     0.331139     -1.414778      -1.3357        0\n",
              "3     -1.520635     0.101529     -1.300696      -1.3357        0\n",
              "4     -1.036535     1.249582     -1.357737      -1.3357        0"
            ]
          },
          "execution_count": 22,
          "metadata": {},
          "output_type": "execute_result"
        }
      ],
      "source": [
        "df.head()"
      ]
    },
    {
      "cell_type": "markdown",
      "id": "ca9bf7fc",
      "metadata": {},
      "source": [
        "### ***7_ Feature & Target Selection*** ###"
      ]
    },
    {
      "cell_type": "code",
      "execution_count": 23,
      "id": "e00006df",
      "metadata": {},
      "outputs": [],
      "source": [
        "X = df.drop('species', axis=1)  # Features\n",
        "y = df['species']  # Target variable"
      ]
    },
    {
      "cell_type": "code",
      "execution_count": 24,
      "id": "ae68411d",
      "metadata": {},
      "outputs": [
        {
          "data": {
            "application/vnd.microsoft.datawrangler.viewer.v0+json": {
              "columns": [
                {
                  "name": "index",
                  "rawType": "int64",
                  "type": "integer"
                },
                {
                  "name": "sepal_length",
                  "rawType": "float64",
                  "type": "float"
                },
                {
                  "name": "sepal_width",
                  "rawType": "float64",
                  "type": "float"
                },
                {
                  "name": "petal_length",
                  "rawType": "float64",
                  "type": "float"
                },
                {
                  "name": "petal_width",
                  "rawType": "float64",
                  "type": "float"
                }
              ],
              "ref": "d8024d30-8a0f-426a-8a8e-c4544bea0e55",
              "rows": [
                [
                  "0",
                  "-0.9155094885405356",
                  "1.019971404489066",
                  "-1.357736919867759",
                  "-1.3357000122338663"
                ],
                [
                  "1",
                  "-1.157559659071935",
                  "-0.1280821671793312",
                  "-1.357736919867759",
                  "-1.3357000122338663"
                ],
                [
                  "2",
                  "-1.3996098296033357",
                  "0.3311392614880281",
                  "-1.4147781680016716",
                  "-1.3357000122338663"
                ],
                [
                  "3",
                  "-1.5206349148690366",
                  "0.10152854715434842",
                  "-1.300695671733846",
                  "-1.3357000122338663"
                ],
                [
                  "4",
                  "-1.0365345738062353",
                  "1.2495821188227456",
                  "-1.357736919867759",
                  "-1.3357000122338663"
                ],
                [
                  "5",
                  "-0.5524342327434341",
                  "1.9384142618237836",
                  "-1.1866131754660205",
                  "-1.0709017630115085"
                ],
                [
                  "6",
                  "-1.5206349148690366",
                  "0.7903606901553863",
                  "-1.357736919867759",
                  "-1.2033008876226874"
                ],
                [
                  "7",
                  "-1.0365345738062353",
                  "0.7903606901553863",
                  "-1.300695671733846",
                  "-1.3357000122338663"
                ],
                [
                  "8",
                  "-1.7626850854004361",
                  "-0.3576928815130109",
                  "-1.357736919867759",
                  "-1.3357000122338663"
                ],
                [
                  "9",
                  "-1.157559659071935",
                  "0.10152854715434842",
                  "-1.300695671733846",
                  "-1.4680991368450451"
                ],
                [
                  "10",
                  "-0.5524342327434341",
                  "1.4791928331564252",
                  "-1.300695671733846",
                  "-1.3357000122338663"
                ],
                [
                  "11",
                  "-1.278584744337636",
                  "0.7903606901553863",
                  "-1.2436544235999334",
                  "-1.3357000122338663"
                ],
                [
                  "12",
                  "-1.278584744337636",
                  "-0.1280821671793312",
                  "-1.357736919867759",
                  "-1.4680991368450451"
                ],
                [
                  "13",
                  "-1.883710170666137",
                  "-0.1280821671793312",
                  "-1.5288606642694968",
                  "-1.4680991368450451"
                ],
                [
                  "14",
                  "-0.06833389168063382",
                  "2.1680249761574633",
                  "-1.471819416135584",
                  "-1.3357000122338663"
                ],
                [
                  "15",
                  "-0.1893589769463336",
                  "3.086467833492182",
                  "-1.300695671733846",
                  "-1.0709017630115085"
                ],
                [
                  "16",
                  "-0.5524342327434341",
                  "1.9384142618237836",
                  "-1.4147781680016716",
                  "-1.0709017630115085"
                ],
                [
                  "17",
                  "-0.9155094885405356",
                  "1.019971404489066",
                  "-1.357736919867759",
                  "-1.2033008876226874"
                ],
                [
                  "18",
                  "-0.1893589769463336",
                  "1.7088035474901038",
                  "-1.1866131754660205",
                  "-1.2033008876226874"
                ],
                [
                  "19",
                  "-0.9155094885405356",
                  "1.7088035474901038",
                  "-1.300695671733846",
                  "-1.2033008876226874"
                ],
                [
                  "20",
                  "-0.5524342327434341",
                  "0.7903606901553863",
                  "-1.1866131754660205",
                  "-1.3357000122338663"
                ],
                [
                  "21",
                  "-0.9155094885405356",
                  "1.4791928331564252",
                  "-1.300695671733846",
                  "-1.0709017630115085"
                ],
                [
                  "22",
                  "-1.5206349148690366",
                  "1.2495821188227456",
                  "-1.5859019124034095",
                  "-1.3357000122338663"
                ],
                [
                  "23",
                  "-0.9155094885405356",
                  "0.5607499758217067",
                  "-1.1866131754660205",
                  "-0.9385026384003295"
                ],
                [
                  "24",
                  "-1.278584744337636",
                  "0.7903606901553863",
                  "-1.0725306791981954",
                  "-1.3357000122338663"
                ],
                [
                  "25",
                  "-1.0365345738062353",
                  "-0.1280821671793312",
                  "-1.2436544235999334",
                  "-1.3357000122338663"
                ],
                [
                  "26",
                  "-1.0365345738062353",
                  "0.7903606901553863",
                  "-1.2436544235999334",
                  "-1.0709017630115085"
                ],
                [
                  "27",
                  "-0.7944844032748347",
                  "1.019971404489066",
                  "-1.300695671733846",
                  "-1.3357000122338663"
                ],
                [
                  "28",
                  "-0.7944844032748347",
                  "0.7903606901553863",
                  "-1.357736919867759",
                  "-1.3357000122338663"
                ],
                [
                  "29",
                  "-1.3996098296033357",
                  "0.3311392614880281",
                  "-1.2436544235999334",
                  "-1.3357000122338663"
                ],
                [
                  "30",
                  "-1.278584744337636",
                  "0.10152854715434842",
                  "-1.2436544235999334",
                  "-1.3357000122338663"
                ],
                [
                  "31",
                  "-0.5524342327434341",
                  "0.7903606901553863",
                  "-1.300695671733846",
                  "-1.0709017630115085"
                ],
                [
                  "32",
                  "-0.7944844032748347",
                  "2.397635690491142",
                  "-1.300695671733846",
                  "-1.4680991368450451"
                ],
                [
                  "33",
                  "-0.4314091474777343",
                  "2.6272464048248225",
                  "-1.357736919867759",
                  "-1.3357000122338663"
                ],
                [
                  "35",
                  "-1.0365345738062353",
                  "0.3311392614880281",
                  "-1.471819416135584",
                  "-1.3357000122338663"
                ],
                [
                  "36",
                  "-0.4314091474777343",
                  "1.019971404489066",
                  "-1.4147781680016716",
                  "-1.3357000122338663"
                ],
                [
                  "38",
                  "-1.7626850854004361",
                  "-0.1280821671793312",
                  "-1.4147781680016716",
                  "-1.3357000122338663"
                ],
                [
                  "39",
                  "-0.9155094885405356",
                  "0.7903606901553863",
                  "-1.300695671733846",
                  "-1.3357000122338663"
                ],
                [
                  "40",
                  "-1.0365345738062353",
                  "1.019971404489066",
                  "-1.4147781680016716",
                  "-1.2033008876226874"
                ],
                [
                  "41",
                  "-1.6416600001347363",
                  "-1.7353571675150876",
                  "-1.4147781680016716",
                  "-1.2033008876226874"
                ],
                [
                  "42",
                  "-1.7626850854004361",
                  "0.3311392614880281",
                  "-1.4147781680016716",
                  "-1.3357000122338663"
                ],
                [
                  "43",
                  "-1.0365345738062353",
                  "1.019971404489066",
                  "-1.2436544235999334",
                  "-0.8061035137891507"
                ],
                [
                  "44",
                  "-0.9155094885405356",
                  "1.7088035474901038",
                  "-1.0725306791981954",
                  "-1.0709017630115085"
                ],
                [
                  "45",
                  "-1.278584744337636",
                  "-0.1280821671793312",
                  "-1.357736919867759",
                  "-1.2033008876226874"
                ],
                [
                  "46",
                  "-0.9155094885405356",
                  "1.7088035474901038",
                  "-1.2436544235999334",
                  "-1.3357000122338663"
                ],
                [
                  "47",
                  "-1.5206349148690366",
                  "0.3311392614880281",
                  "-1.357736919867759",
                  "-1.3357000122338663"
                ],
                [
                  "48",
                  "-0.6734593180091349",
                  "1.4791928331564252",
                  "-1.300695671733846",
                  "-1.3357000122338663"
                ],
                [
                  "49",
                  "-1.0365345738062353",
                  "0.5607499758217067",
                  "-1.357736919867759",
                  "-1.3357000122338663"
                ],
                [
                  "50",
                  "1.383967131507769",
                  "0.3311392614880281",
                  "0.5246242685513601",
                  "0.25308948310028034"
                ],
                [
                  "51",
                  "0.6578166199135681",
                  "0.3311392614880281",
                  "0.41054177228353467",
                  "0.3854886077114594"
                ]
              ],
              "shape": {
                "columns": 4,
                "rows": 147
              }
            },
            "text/html": [
              "<div>\n",
              "<style scoped>\n",
              "    .dataframe tbody tr th:only-of-type {\n",
              "        vertical-align: middle;\n",
              "    }\n",
              "\n",
              "    .dataframe tbody tr th {\n",
              "        vertical-align: top;\n",
              "    }\n",
              "\n",
              "    .dataframe thead th {\n",
              "        text-align: right;\n",
              "    }\n",
              "</style>\n",
              "<table border=\"1\" class=\"dataframe\">\n",
              "  <thead>\n",
              "    <tr style=\"text-align: right;\">\n",
              "      <th></th>\n",
              "      <th>sepal_length</th>\n",
              "      <th>sepal_width</th>\n",
              "      <th>petal_length</th>\n",
              "      <th>petal_width</th>\n",
              "    </tr>\n",
              "  </thead>\n",
              "  <tbody>\n",
              "    <tr>\n",
              "      <th>0</th>\n",
              "      <td>-0.915509</td>\n",
              "      <td>1.019971</td>\n",
              "      <td>-1.357737</td>\n",
              "      <td>-1.335700</td>\n",
              "    </tr>\n",
              "    <tr>\n",
              "      <th>1</th>\n",
              "      <td>-1.157560</td>\n",
              "      <td>-0.128082</td>\n",
              "      <td>-1.357737</td>\n",
              "      <td>-1.335700</td>\n",
              "    </tr>\n",
              "    <tr>\n",
              "      <th>2</th>\n",
              "      <td>-1.399610</td>\n",
              "      <td>0.331139</td>\n",
              "      <td>-1.414778</td>\n",
              "      <td>-1.335700</td>\n",
              "    </tr>\n",
              "    <tr>\n",
              "      <th>3</th>\n",
              "      <td>-1.520635</td>\n",
              "      <td>0.101529</td>\n",
              "      <td>-1.300696</td>\n",
              "      <td>-1.335700</td>\n",
              "    </tr>\n",
              "    <tr>\n",
              "      <th>4</th>\n",
              "      <td>-1.036535</td>\n",
              "      <td>1.249582</td>\n",
              "      <td>-1.357737</td>\n",
              "      <td>-1.335700</td>\n",
              "    </tr>\n",
              "    <tr>\n",
              "      <th>...</th>\n",
              "      <td>...</td>\n",
              "      <td>...</td>\n",
              "      <td>...</td>\n",
              "      <td>...</td>\n",
              "    </tr>\n",
              "    <tr>\n",
              "      <th>145</th>\n",
              "      <td>1.020892</td>\n",
              "      <td>-0.128082</td>\n",
              "      <td>0.809831</td>\n",
              "      <td>1.444682</td>\n",
              "    </tr>\n",
              "    <tr>\n",
              "      <th>146</th>\n",
              "      <td>0.536792</td>\n",
              "      <td>-1.276136</td>\n",
              "      <td>0.695748</td>\n",
              "      <td>0.915085</td>\n",
              "    </tr>\n",
              "    <tr>\n",
              "      <th>147</th>\n",
              "      <td>0.778842</td>\n",
              "      <td>-0.128082</td>\n",
              "      <td>0.809831</td>\n",
              "      <td>1.047484</td>\n",
              "    </tr>\n",
              "    <tr>\n",
              "      <th>148</th>\n",
              "      <td>0.415766</td>\n",
              "      <td>0.790361</td>\n",
              "      <td>0.923913</td>\n",
              "      <td>1.444682</td>\n",
              "    </tr>\n",
              "    <tr>\n",
              "      <th>149</th>\n",
              "      <td>0.052691</td>\n",
              "      <td>-0.128082</td>\n",
              "      <td>0.752789</td>\n",
              "      <td>0.782686</td>\n",
              "    </tr>\n",
              "  </tbody>\n",
              "</table>\n",
              "<p>147 rows × 4 columns</p>\n",
              "</div>"
            ],
            "text/plain": [
              "     sepal_length  sepal_width  petal_length  petal_width\n",
              "0       -0.915509     1.019971     -1.357737    -1.335700\n",
              "1       -1.157560    -0.128082     -1.357737    -1.335700\n",
              "2       -1.399610     0.331139     -1.414778    -1.335700\n",
              "3       -1.520635     0.101529     -1.300696    -1.335700\n",
              "4       -1.036535     1.249582     -1.357737    -1.335700\n",
              "..            ...          ...           ...          ...\n",
              "145      1.020892    -0.128082      0.809831     1.444682\n",
              "146      0.536792    -1.276136      0.695748     0.915085\n",
              "147      0.778842    -0.128082      0.809831     1.047484\n",
              "148      0.415766     0.790361      0.923913     1.444682\n",
              "149      0.052691    -0.128082      0.752789     0.782686\n",
              "\n",
              "[147 rows x 4 columns]"
            ]
          },
          "execution_count": 24,
          "metadata": {},
          "output_type": "execute_result"
        }
      ],
      "source": [
        "X"
      ]
    },
    {
      "cell_type": "code",
      "execution_count": 25,
      "id": "d2c4a818",
      "metadata": {},
      "outputs": [
        {
          "data": {
            "application/vnd.microsoft.datawrangler.viewer.v0+json": {
              "columns": [
                {
                  "name": "index",
                  "rawType": "int64",
                  "type": "integer"
                },
                {
                  "name": "species",
                  "rawType": "int32",
                  "type": "integer"
                }
              ],
              "ref": "64c37dc0-3d82-4bd7-88a7-74e841e225a5",
              "rows": [
                [
                  "0",
                  "0"
                ],
                [
                  "1",
                  "0"
                ],
                [
                  "2",
                  "0"
                ],
                [
                  "3",
                  "0"
                ],
                [
                  "4",
                  "0"
                ],
                [
                  "5",
                  "0"
                ],
                [
                  "6",
                  "0"
                ],
                [
                  "7",
                  "0"
                ],
                [
                  "8",
                  "0"
                ],
                [
                  "9",
                  "0"
                ],
                [
                  "10",
                  "0"
                ],
                [
                  "11",
                  "0"
                ],
                [
                  "12",
                  "0"
                ],
                [
                  "13",
                  "0"
                ],
                [
                  "14",
                  "0"
                ],
                [
                  "15",
                  "0"
                ],
                [
                  "16",
                  "0"
                ],
                [
                  "17",
                  "0"
                ],
                [
                  "18",
                  "0"
                ],
                [
                  "19",
                  "0"
                ],
                [
                  "20",
                  "0"
                ],
                [
                  "21",
                  "0"
                ],
                [
                  "22",
                  "0"
                ],
                [
                  "23",
                  "0"
                ],
                [
                  "24",
                  "0"
                ],
                [
                  "25",
                  "0"
                ],
                [
                  "26",
                  "0"
                ],
                [
                  "27",
                  "0"
                ],
                [
                  "28",
                  "0"
                ],
                [
                  "29",
                  "0"
                ],
                [
                  "30",
                  "0"
                ],
                [
                  "31",
                  "0"
                ],
                [
                  "32",
                  "0"
                ],
                [
                  "33",
                  "0"
                ],
                [
                  "35",
                  "0"
                ],
                [
                  "36",
                  "0"
                ],
                [
                  "38",
                  "0"
                ],
                [
                  "39",
                  "0"
                ],
                [
                  "40",
                  "0"
                ],
                [
                  "41",
                  "0"
                ],
                [
                  "42",
                  "0"
                ],
                [
                  "43",
                  "0"
                ],
                [
                  "44",
                  "0"
                ],
                [
                  "45",
                  "0"
                ],
                [
                  "46",
                  "0"
                ],
                [
                  "47",
                  "0"
                ],
                [
                  "48",
                  "0"
                ],
                [
                  "49",
                  "0"
                ],
                [
                  "50",
                  "1"
                ],
                [
                  "51",
                  "1"
                ]
              ],
              "shape": {
                "columns": 1,
                "rows": 147
              }
            },
            "text/plain": [
              "0      0\n",
              "1      0\n",
              "2      0\n",
              "3      0\n",
              "4      0\n",
              "      ..\n",
              "145    2\n",
              "146    2\n",
              "147    2\n",
              "148    2\n",
              "149    2\n",
              "Name: species, Length: 147, dtype: int32"
            ]
          },
          "execution_count": 25,
          "metadata": {},
          "output_type": "execute_result"
        }
      ],
      "source": [
        "y"
      ]
    },
    {
      "cell_type": "code",
      "execution_count": 26,
      "id": "f42503e2",
      "metadata": {},
      "outputs": [
        {
          "data": {
            "application/vnd.microsoft.datawrangler.viewer.v0+json": {
              "columns": [
                {
                  "name": "species",
                  "rawType": "int32",
                  "type": "integer"
                },
                {
                  "name": "count",
                  "rawType": "int64",
                  "type": "integer"
                }
              ],
              "ref": "3b9687c7-74fb-4bb5-9265-9c31efac5430",
              "rows": [
                [
                  "1",
                  "50"
                ],
                [
                  "2",
                  "49"
                ],
                [
                  "0",
                  "48"
                ]
              ],
              "shape": {
                "columns": 1,
                "rows": 3
              }
            },
            "text/plain": [
              "species\n",
              "1    50\n",
              "2    49\n",
              "0    48\n",
              "Name: count, dtype: int64"
            ]
          },
          "execution_count": 26,
          "metadata": {},
          "output_type": "execute_result"
        }
      ],
      "source": [
        "y.value_counts()"
      ]
    },
    {
      "cell_type": "markdown",
      "id": "1ddbbd83",
      "metadata": {},
      "source": [
        "### ***8_ Spliting the dataset into the Training set and Test set*** ###"
      ]
    },
    {
      "cell_type": "code",
      "execution_count": 27,
      "id": "ccec3a69",
      "metadata": {},
      "outputs": [],
      "source": [
        "X_train, X_test, y_train, y_test = train_test_split(X, y, test_size=0.2, random_state=42)"
      ]
    },
    {
      "cell_type": "code",
      "execution_count": 28,
      "id": "ce889444",
      "metadata": {},
      "outputs": [
        {
          "data": {
            "text/plain": [
              "((117, 4), (30, 4), (117,), (30,))"
            ]
          },
          "execution_count": 28,
          "metadata": {},
          "output_type": "execute_result"
        }
      ],
      "source": [
        "X_train.shape, X_test.shape, y_train.shape, y_test.shape"
      ]
    },
    {
      "cell_type": "markdown",
      "id": "new-cell-3",
      "metadata": {
        "id": "new-cell-3"
      },
      "source": [
        "### ***9- Train Decision Tree Classifier Model*** ###"
      ]
    },
    {
      "cell_type": "code",
      "execution_count": 29,
      "id": "new-cell-4",
      "metadata": {
        "id": "new-cell-4",
        "outputId": "b918d843-e1cb-438c-834d-a0daa36cd8f2"
      },
      "outputs": [
        {
          "data": {
            "text/html": [
              "<style>#sk-container-id-1 {\n",
              "  /* Definition of color scheme common for light and dark mode */\n",
              "  --sklearn-color-text: #000;\n",
              "  --sklearn-color-text-muted: #666;\n",
              "  --sklearn-color-line: gray;\n",
              "  /* Definition of color scheme for unfitted estimators */\n",
              "  --sklearn-color-unfitted-level-0: #fff5e6;\n",
              "  --sklearn-color-unfitted-level-1: #f6e4d2;\n",
              "  --sklearn-color-unfitted-level-2: #ffe0b3;\n",
              "  --sklearn-color-unfitted-level-3: chocolate;\n",
              "  /* Definition of color scheme for fitted estimators */\n",
              "  --sklearn-color-fitted-level-0: #f0f8ff;\n",
              "  --sklearn-color-fitted-level-1: #d4ebff;\n",
              "  --sklearn-color-fitted-level-2: #b3dbfd;\n",
              "  --sklearn-color-fitted-level-3: cornflowerblue;\n",
              "\n",
              "  /* Specific color for light theme */\n",
              "  --sklearn-color-text-on-default-background: var(--sg-text-color, var(--theme-code-foreground, var(--jp-content-font-color1, black)));\n",
              "  --sklearn-color-background: var(--sg-background-color, var(--theme-background, var(--jp-layout-color0, white)));\n",
              "  --sklearn-color-border-box: var(--sg-text-color, var(--theme-code-foreground, var(--jp-content-font-color1, black)));\n",
              "  --sklearn-color-icon: #696969;\n",
              "\n",
              "  @media (prefers-color-scheme: dark) {\n",
              "    /* Redefinition of color scheme for dark theme */\n",
              "    --sklearn-color-text-on-default-background: var(--sg-text-color, var(--theme-code-foreground, var(--jp-content-font-color1, white)));\n",
              "    --sklearn-color-background: var(--sg-background-color, var(--theme-background, var(--jp-layout-color0, #111)));\n",
              "    --sklearn-color-border-box: var(--sg-text-color, var(--theme-code-foreground, var(--jp-content-font-color1, white)));\n",
              "    --sklearn-color-icon: #878787;\n",
              "  }\n",
              "}\n",
              "\n",
              "#sk-container-id-1 {\n",
              "  color: var(--sklearn-color-text);\n",
              "}\n",
              "\n",
              "#sk-container-id-1 pre {\n",
              "  padding: 0;\n",
              "}\n",
              "\n",
              "#sk-container-id-1 input.sk-hidden--visually {\n",
              "  border: 0;\n",
              "  clip: rect(1px 1px 1px 1px);\n",
              "  clip: rect(1px, 1px, 1px, 1px);\n",
              "  height: 1px;\n",
              "  margin: -1px;\n",
              "  overflow: hidden;\n",
              "  padding: 0;\n",
              "  position: absolute;\n",
              "  width: 1px;\n",
              "}\n",
              "\n",
              "#sk-container-id-1 div.sk-dashed-wrapped {\n",
              "  border: 1px dashed var(--sklearn-color-line);\n",
              "  margin: 0 0.4em 0.5em 0.4em;\n",
              "  box-sizing: border-box;\n",
              "  padding-bottom: 0.4em;\n",
              "  background-color: var(--sklearn-color-background);\n",
              "}\n",
              "\n",
              "#sk-container-id-1 div.sk-container {\n",
              "  /* jupyter's `normalize.less` sets `[hidden] { display: none; }`\n",
              "     but bootstrap.min.css set `[hidden] { display: none !important; }`\n",
              "     so we also need the `!important` here to be able to override the\n",
              "     default hidden behavior on the sphinx rendered scikit-learn.org.\n",
              "     See: https://github.com/scikit-learn/scikit-learn/issues/21755 */\n",
              "  display: inline-block !important;\n",
              "  position: relative;\n",
              "}\n",
              "\n",
              "#sk-container-id-1 div.sk-text-repr-fallback {\n",
              "  display: none;\n",
              "}\n",
              "\n",
              "div.sk-parallel-item,\n",
              "div.sk-serial,\n",
              "div.sk-item {\n",
              "  /* draw centered vertical line to link estimators */\n",
              "  background-image: linear-gradient(var(--sklearn-color-text-on-default-background), var(--sklearn-color-text-on-default-background));\n",
              "  background-size: 2px 100%;\n",
              "  background-repeat: no-repeat;\n",
              "  background-position: center center;\n",
              "}\n",
              "\n",
              "/* Parallel-specific style estimator block */\n",
              "\n",
              "#sk-container-id-1 div.sk-parallel-item::after {\n",
              "  content: \"\";\n",
              "  width: 100%;\n",
              "  border-bottom: 2px solid var(--sklearn-color-text-on-default-background);\n",
              "  flex-grow: 1;\n",
              "}\n",
              "\n",
              "#sk-container-id-1 div.sk-parallel {\n",
              "  display: flex;\n",
              "  align-items: stretch;\n",
              "  justify-content: center;\n",
              "  background-color: var(--sklearn-color-background);\n",
              "  position: relative;\n",
              "}\n",
              "\n",
              "#sk-container-id-1 div.sk-parallel-item {\n",
              "  display: flex;\n",
              "  flex-direction: column;\n",
              "}\n",
              "\n",
              "#sk-container-id-1 div.sk-parallel-item:first-child::after {\n",
              "  align-self: flex-end;\n",
              "  width: 50%;\n",
              "}\n",
              "\n",
              "#sk-container-id-1 div.sk-parallel-item:last-child::after {\n",
              "  align-self: flex-start;\n",
              "  width: 50%;\n",
              "}\n",
              "\n",
              "#sk-container-id-1 div.sk-parallel-item:only-child::after {\n",
              "  width: 0;\n",
              "}\n",
              "\n",
              "/* Serial-specific style estimator block */\n",
              "\n",
              "#sk-container-id-1 div.sk-serial {\n",
              "  display: flex;\n",
              "  flex-direction: column;\n",
              "  align-items: center;\n",
              "  background-color: var(--sklearn-color-background);\n",
              "  padding-right: 1em;\n",
              "  padding-left: 1em;\n",
              "}\n",
              "\n",
              "\n",
              "/* Toggleable style: style used for estimator/Pipeline/ColumnTransformer box that is\n",
              "clickable and can be expanded/collapsed.\n",
              "- Pipeline and ColumnTransformer use this feature and define the default style\n",
              "- Estimators will overwrite some part of the style using the `sk-estimator` class\n",
              "*/\n",
              "\n",
              "/* Pipeline and ColumnTransformer style (default) */\n",
              "\n",
              "#sk-container-id-1 div.sk-toggleable {\n",
              "  /* Default theme specific background. It is overwritten whether we have a\n",
              "  specific estimator or a Pipeline/ColumnTransformer */\n",
              "  background-color: var(--sklearn-color-background);\n",
              "}\n",
              "\n",
              "/* Toggleable label */\n",
              "#sk-container-id-1 label.sk-toggleable__label {\n",
              "  cursor: pointer;\n",
              "  display: flex;\n",
              "  width: 100%;\n",
              "  margin-bottom: 0;\n",
              "  padding: 0.5em;\n",
              "  box-sizing: border-box;\n",
              "  text-align: center;\n",
              "  align-items: start;\n",
              "  justify-content: space-between;\n",
              "  gap: 0.5em;\n",
              "}\n",
              "\n",
              "#sk-container-id-1 label.sk-toggleable__label .caption {\n",
              "  font-size: 0.6rem;\n",
              "  font-weight: lighter;\n",
              "  color: var(--sklearn-color-text-muted);\n",
              "}\n",
              "\n",
              "#sk-container-id-1 label.sk-toggleable__label-arrow:before {\n",
              "  /* Arrow on the left of the label */\n",
              "  content: \"▸\";\n",
              "  float: left;\n",
              "  margin-right: 0.25em;\n",
              "  color: var(--sklearn-color-icon);\n",
              "}\n",
              "\n",
              "#sk-container-id-1 label.sk-toggleable__label-arrow:hover:before {\n",
              "  color: var(--sklearn-color-text);\n",
              "}\n",
              "\n",
              "/* Toggleable content - dropdown */\n",
              "\n",
              "#sk-container-id-1 div.sk-toggleable__content {\n",
              "  max-height: 0;\n",
              "  max-width: 0;\n",
              "  overflow: hidden;\n",
              "  text-align: left;\n",
              "  /* unfitted */\n",
              "  background-color: var(--sklearn-color-unfitted-level-0);\n",
              "}\n",
              "\n",
              "#sk-container-id-1 div.sk-toggleable__content.fitted {\n",
              "  /* fitted */\n",
              "  background-color: var(--sklearn-color-fitted-level-0);\n",
              "}\n",
              "\n",
              "#sk-container-id-1 div.sk-toggleable__content pre {\n",
              "  margin: 0.2em;\n",
              "  border-radius: 0.25em;\n",
              "  color: var(--sklearn-color-text);\n",
              "  /* unfitted */\n",
              "  background-color: var(--sklearn-color-unfitted-level-0);\n",
              "}\n",
              "\n",
              "#sk-container-id-1 div.sk-toggleable__content.fitted pre {\n",
              "  /* unfitted */\n",
              "  background-color: var(--sklearn-color-fitted-level-0);\n",
              "}\n",
              "\n",
              "#sk-container-id-1 input.sk-toggleable__control:checked~div.sk-toggleable__content {\n",
              "  /* Expand drop-down */\n",
              "  max-height: 200px;\n",
              "  max-width: 100%;\n",
              "  overflow: auto;\n",
              "}\n",
              "\n",
              "#sk-container-id-1 input.sk-toggleable__control:checked~label.sk-toggleable__label-arrow:before {\n",
              "  content: \"▾\";\n",
              "}\n",
              "\n",
              "/* Pipeline/ColumnTransformer-specific style */\n",
              "\n",
              "#sk-container-id-1 div.sk-label input.sk-toggleable__control:checked~label.sk-toggleable__label {\n",
              "  color: var(--sklearn-color-text);\n",
              "  background-color: var(--sklearn-color-unfitted-level-2);\n",
              "}\n",
              "\n",
              "#sk-container-id-1 div.sk-label.fitted input.sk-toggleable__control:checked~label.sk-toggleable__label {\n",
              "  background-color: var(--sklearn-color-fitted-level-2);\n",
              "}\n",
              "\n",
              "/* Estimator-specific style */\n",
              "\n",
              "/* Colorize estimator box */\n",
              "#sk-container-id-1 div.sk-estimator input.sk-toggleable__control:checked~label.sk-toggleable__label {\n",
              "  /* unfitted */\n",
              "  background-color: var(--sklearn-color-unfitted-level-2);\n",
              "}\n",
              "\n",
              "#sk-container-id-1 div.sk-estimator.fitted input.sk-toggleable__control:checked~label.sk-toggleable__label {\n",
              "  /* fitted */\n",
              "  background-color: var(--sklearn-color-fitted-level-2);\n",
              "}\n",
              "\n",
              "#sk-container-id-1 div.sk-label label.sk-toggleable__label,\n",
              "#sk-container-id-1 div.sk-label label {\n",
              "  /* The background is the default theme color */\n",
              "  color: var(--sklearn-color-text-on-default-background);\n",
              "}\n",
              "\n",
              "/* On hover, darken the color of the background */\n",
              "#sk-container-id-1 div.sk-label:hover label.sk-toggleable__label {\n",
              "  color: var(--sklearn-color-text);\n",
              "  background-color: var(--sklearn-color-unfitted-level-2);\n",
              "}\n",
              "\n",
              "/* Label box, darken color on hover, fitted */\n",
              "#sk-container-id-1 div.sk-label.fitted:hover label.sk-toggleable__label.fitted {\n",
              "  color: var(--sklearn-color-text);\n",
              "  background-color: var(--sklearn-color-fitted-level-2);\n",
              "}\n",
              "\n",
              "/* Estimator label */\n",
              "\n",
              "#sk-container-id-1 div.sk-label label {\n",
              "  font-family: monospace;\n",
              "  font-weight: bold;\n",
              "  display: inline-block;\n",
              "  line-height: 1.2em;\n",
              "}\n",
              "\n",
              "#sk-container-id-1 div.sk-label-container {\n",
              "  text-align: center;\n",
              "}\n",
              "\n",
              "/* Estimator-specific */\n",
              "#sk-container-id-1 div.sk-estimator {\n",
              "  font-family: monospace;\n",
              "  border: 1px dotted var(--sklearn-color-border-box);\n",
              "  border-radius: 0.25em;\n",
              "  box-sizing: border-box;\n",
              "  margin-bottom: 0.5em;\n",
              "  /* unfitted */\n",
              "  background-color: var(--sklearn-color-unfitted-level-0);\n",
              "}\n",
              "\n",
              "#sk-container-id-1 div.sk-estimator.fitted {\n",
              "  /* fitted */\n",
              "  background-color: var(--sklearn-color-fitted-level-0);\n",
              "}\n",
              "\n",
              "/* on hover */\n",
              "#sk-container-id-1 div.sk-estimator:hover {\n",
              "  /* unfitted */\n",
              "  background-color: var(--sklearn-color-unfitted-level-2);\n",
              "}\n",
              "\n",
              "#sk-container-id-1 div.sk-estimator.fitted:hover {\n",
              "  /* fitted */\n",
              "  background-color: var(--sklearn-color-fitted-level-2);\n",
              "}\n",
              "\n",
              "/* Specification for estimator info (e.g. \"i\" and \"?\") */\n",
              "\n",
              "/* Common style for \"i\" and \"?\" */\n",
              "\n",
              ".sk-estimator-doc-link,\n",
              "a:link.sk-estimator-doc-link,\n",
              "a:visited.sk-estimator-doc-link {\n",
              "  float: right;\n",
              "  font-size: smaller;\n",
              "  line-height: 1em;\n",
              "  font-family: monospace;\n",
              "  background-color: var(--sklearn-color-background);\n",
              "  border-radius: 1em;\n",
              "  height: 1em;\n",
              "  width: 1em;\n",
              "  text-decoration: none !important;\n",
              "  margin-left: 0.5em;\n",
              "  text-align: center;\n",
              "  /* unfitted */\n",
              "  border: var(--sklearn-color-unfitted-level-1) 1pt solid;\n",
              "  color: var(--sklearn-color-unfitted-level-1);\n",
              "}\n",
              "\n",
              ".sk-estimator-doc-link.fitted,\n",
              "a:link.sk-estimator-doc-link.fitted,\n",
              "a:visited.sk-estimator-doc-link.fitted {\n",
              "  /* fitted */\n",
              "  border: var(--sklearn-color-fitted-level-1) 1pt solid;\n",
              "  color: var(--sklearn-color-fitted-level-1);\n",
              "}\n",
              "\n",
              "/* On hover */\n",
              "div.sk-estimator:hover .sk-estimator-doc-link:hover,\n",
              ".sk-estimator-doc-link:hover,\n",
              "div.sk-label-container:hover .sk-estimator-doc-link:hover,\n",
              ".sk-estimator-doc-link:hover {\n",
              "  /* unfitted */\n",
              "  background-color: var(--sklearn-color-unfitted-level-3);\n",
              "  color: var(--sklearn-color-background);\n",
              "  text-decoration: none;\n",
              "}\n",
              "\n",
              "div.sk-estimator.fitted:hover .sk-estimator-doc-link.fitted:hover,\n",
              ".sk-estimator-doc-link.fitted:hover,\n",
              "div.sk-label-container:hover .sk-estimator-doc-link.fitted:hover,\n",
              ".sk-estimator-doc-link.fitted:hover {\n",
              "  /* fitted */\n",
              "  background-color: var(--sklearn-color-fitted-level-3);\n",
              "  color: var(--sklearn-color-background);\n",
              "  text-decoration: none;\n",
              "}\n",
              "\n",
              "/* Span, style for the box shown on hovering the info icon */\n",
              ".sk-estimator-doc-link span {\n",
              "  display: none;\n",
              "  z-index: 9999;\n",
              "  position: relative;\n",
              "  font-weight: normal;\n",
              "  right: .2ex;\n",
              "  padding: .5ex;\n",
              "  margin: .5ex;\n",
              "  width: min-content;\n",
              "  min-width: 20ex;\n",
              "  max-width: 50ex;\n",
              "  color: var(--sklearn-color-text);\n",
              "  box-shadow: 2pt 2pt 4pt #999;\n",
              "  /* unfitted */\n",
              "  background: var(--sklearn-color-unfitted-level-0);\n",
              "  border: .5pt solid var(--sklearn-color-unfitted-level-3);\n",
              "}\n",
              "\n",
              ".sk-estimator-doc-link.fitted span {\n",
              "  /* fitted */\n",
              "  background: var(--sklearn-color-fitted-level-0);\n",
              "  border: var(--sklearn-color-fitted-level-3);\n",
              "}\n",
              "\n",
              ".sk-estimator-doc-link:hover span {\n",
              "  display: block;\n",
              "}\n",
              "\n",
              "/* \"?\"-specific style due to the `<a>` HTML tag */\n",
              "\n",
              "#sk-container-id-1 a.estimator_doc_link {\n",
              "  float: right;\n",
              "  font-size: 1rem;\n",
              "  line-height: 1em;\n",
              "  font-family: monospace;\n",
              "  background-color: var(--sklearn-color-background);\n",
              "  border-radius: 1rem;\n",
              "  height: 1rem;\n",
              "  width: 1rem;\n",
              "  text-decoration: none;\n",
              "  /* unfitted */\n",
              "  color: var(--sklearn-color-unfitted-level-1);\n",
              "  border: var(--sklearn-color-unfitted-level-1) 1pt solid;\n",
              "}\n",
              "\n",
              "#sk-container-id-1 a.estimator_doc_link.fitted {\n",
              "  /* fitted */\n",
              "  border: var(--sklearn-color-fitted-level-1) 1pt solid;\n",
              "  color: var(--sklearn-color-fitted-level-1);\n",
              "}\n",
              "\n",
              "/* On hover */\n",
              "#sk-container-id-1 a.estimator_doc_link:hover {\n",
              "  /* unfitted */\n",
              "  background-color: var(--sklearn-color-unfitted-level-3);\n",
              "  color: var(--sklearn-color-background);\n",
              "  text-decoration: none;\n",
              "}\n",
              "\n",
              "#sk-container-id-1 a.estimator_doc_link.fitted:hover {\n",
              "  /* fitted */\n",
              "  background-color: var(--sklearn-color-fitted-level-3);\n",
              "}\n",
              "</style><div id=\"sk-container-id-1\" class=\"sk-top-container\"><div class=\"sk-text-repr-fallback\"><pre>DecisionTreeClassifier(random_state=42)</pre><b>In a Jupyter environment, please rerun this cell to show the HTML representation or trust the notebook. <br />On GitHub, the HTML representation is unable to render, please try loading this page with nbviewer.org.</b></div><div class=\"sk-container\" hidden><div class=\"sk-item\"><div class=\"sk-estimator fitted sk-toggleable\"><input class=\"sk-toggleable__control sk-hidden--visually\" id=\"sk-estimator-id-1\" type=\"checkbox\" checked><label for=\"sk-estimator-id-1\" class=\"sk-toggleable__label fitted sk-toggleable__label-arrow\"><div><div>DecisionTreeClassifier</div></div><div><a class=\"sk-estimator-doc-link fitted\" rel=\"noreferrer\" target=\"_blank\" href=\"https://scikit-learn.org/1.6/modules/generated/sklearn.tree.DecisionTreeClassifier.html\">?<span>Documentation for DecisionTreeClassifier</span></a><span class=\"sk-estimator-doc-link fitted\">i<span>Fitted</span></span></div></label><div class=\"sk-toggleable__content fitted\"><pre>DecisionTreeClassifier(random_state=42)</pre></div> </div></div></div></div>"
            ],
            "text/plain": [
              "DecisionTreeClassifier(random_state=42)"
            ]
          },
          "execution_count": 29,
          "metadata": {},
          "output_type": "execute_result"
        }
      ],
      "source": [
        "dt_model = DecisionTreeClassifier(random_state=42)\n",
        "dt_model.fit(X_train, y_train)"
      ]
    },
    {
      "cell_type": "code",
      "execution_count": 30,
      "id": "0fb6e3c2",
      "metadata": {},
      "outputs": [
        {
          "name": "stdout",
          "output_type": "stream",
          "text": [
            "Training Accuracy: 1.0\n"
          ]
        }
      ],
      "source": [
        "dt_model.score(X_train, y_train)\n",
        "print(\"Training Accuracy:\", dt_model.score(X_train, y_train))"
      ]
    },
    {
      "cell_type": "code",
      "execution_count": 31,
      "id": "73539086",
      "metadata": {},
      "outputs": [
        {
          "name": "stdout",
          "output_type": "stream",
          "text": [
            "Testing Accuracy: 0.9333333333333333\n"
          ]
        }
      ],
      "source": [
        "dt_model.score(X_test, y_test)\n",
        "print(\"Testing Accuracy:\", dt_model.score(X_test, y_test))"
      ]
    },
    {
      "cell_type": "markdown",
      "id": "new-cell-5",
      "metadata": {
        "id": "new-cell-5"
      },
      "source": [
        "### ***10- Evaluate Decision Tree Classifier Model*** ###"
      ]
    },
    {
      "cell_type": "code",
      "execution_count": 32,
      "id": "653b20f2",
      "metadata": {
        "id": "653b20f2",
        "outputId": "f6bc4082-d6a3-42ce-fa05-075c1ad55c56"
      },
      "outputs": [
        {
          "data": {
            "text/plain": [
              "array([2, 1, 2, 0, 1, 0, 1, 0, 2, 0, 0, 1, 2, 1, 2, 1, 0, 1, 2, 0, 0, 2,\n",
              "       0, 2, 1, 0, 1, 2, 1, 0])"
            ]
          },
          "execution_count": 32,
          "metadata": {},
          "output_type": "execute_result"
        }
      ],
      "source": [
        "# Predict on test set\n",
        "y_pred = dt_model.predict(X_test)\n",
        "y_pred"
      ]
    },
    {
      "cell_type": "code",
      "execution_count": 33,
      "id": "919bedc9",
      "metadata": {},
      "outputs": [
        {
          "name": "stdout",
          "output_type": "stream",
          "text": [
            "Accuracy: 0.9333333333333333\n"
          ]
        }
      ],
      "source": [
        "# Evaluate the model\n",
        "Accuracy = accuracy_score(y_test, y_pred)\n",
        "print(\"Accuracy:\", accuracy_score(y_test, y_pred))"
      ]
    },
    {
      "cell_type": "code",
      "execution_count": 42,
      "id": "04b0ed76",
      "metadata": {},
      "outputs": [
        {
          "name": "stdout",
          "output_type": "stream",
          "text": [
            "Confusion Matrix:\n",
            "[[11  0  0]\n",
            " [ 0  9  1]\n",
            " [ 0  1  8]]\n"
          ]
        }
      ],
      "source": [
        "# Confusion matrix\n",
        "print('Confusion Matrix:')\n",
        "print(confusion_matrix(y_test, y_pred))"
      ]
    },
    {
      "cell_type": "code",
      "execution_count": 45,
      "id": "21d7ea08",
      "metadata": {},
      "outputs": [
        {
          "name": "stdout",
          "output_type": "stream",
          "text": [
            "Accuracy Score: 0.9333333333333333\n",
            "F1 Score: 0.9333333333333333\n",
            "================================================================================\n",
            "Confusion Matrix:\n",
            " [[11  0  0]\n",
            " [ 0  9  1]\n",
            " [ 0  1  8]]\n",
            "================================================================================\n",
            "Classification Report:\n",
            "               precision    recall  f1-score   support\n",
            "\n",
            "           0       1.00      1.00      1.00        11\n",
            "           1       0.90      0.90      0.90        10\n",
            "           2       0.89      0.89      0.89         9\n",
            "\n",
            "    accuracy                           0.93        30\n",
            "   macro avg       0.93      0.93      0.93        30\n",
            "weighted avg       0.93      0.93      0.93        30\n",
            "\n"
          ]
        }
      ],
      "source": [
        "print(\"Accuracy Score:\", Accuracy)\n",
        "print(\"F1 Score:\", f1_score(y_test, y_pred, average='weighted'))\n",
        "print(\"=\"*80)\n",
        "print(\"Confusion Matrix:\\n\", confusion_matrix(y_test, y_pred))\n",
        "print(\"=\"*80)\n",
        "\n",
        "print(\"Classification Report:\\n\", classification_report(y_test, y_pred))"
      ]
    },
    {
      "cell_type": "code",
      "execution_count": 35,
      "id": "8d7c5375",
      "metadata": {},
      "outputs": [
        {
          "data": {
            "image/png": "[encoded data removed]",
            "text/plain": [
              "<Figure size 500x400 with 2 Axes>"
            ]
          },
          "metadata": {},
          "output_type": "display_data"
        }
      ],
      "source": [
        "# visualize Confusion Matrix\n",
        "cm = confusion_matrix(y_test, y_pred)\n",
        "plt.figure(figsize=(5, 4))\n",
        "sns.heatmap(cm, annot=True, fmt='d')\n",
        "plt.title('Confusion Matrix')\n",
        "plt.xlabel('Predicted')\n",
        "plt.ylabel('Actual')\n",
        "plt.show()"
      ]
    },
    {
      "cell_type": "markdown",
      "id": "ed321932",
      "metadata": {},
      "source": [
        "### ***11- Visualizie the Decision Tree Classifier Model*** ###"
      ]
    },
    {
      "cell_type": "code",
      "execution_count": 36,
      "id": "4852524b",
      "metadata": {},
      "outputs": [
        {
          "data": {
            "image/png": "[encoded data removed]",
            "text/plain": [
              "<Figure size 1200x800 with 1 Axes>"
            ]
          },
          "metadata": {},
          "output_type": "display_data"
        }
      ],
      "source": [
        "plt.figure(figsize=(12, 8))\n",
        "plot_tree(dt_model, feature_names=X.columns, class_names=[str(cls) for cls in df.species.unique()], filled=True)\n",
        "plt.title(\"Decision Tree for Iris Classification\")\n",
        "plt.show()"
      ]
    },
    {
      "cell_type": "markdown",
      "id": "db8e7a9d",
      "metadata": {},
      "source": [
        "## ***`Conclusion`*** ##\n",
        "\n",
        "**In this notebook, we successfully implemented a Decision Tree Classifier to predict the species of flowers using the Iris dataset. The main steps included:**\n",
        "\n",
        "---\n",
        "\n",
        "```\n",
        "1.   Loaded and explored the Iris dataset, checking for missing values and duplicates to ensure data quality.\n",
        "\n",
        "2.   Preprocessed the data by encoding the categorical target variable (species) and \n",
        "     selecting relevant features (sepal length, sepal width, petal length,  petal width).\n",
        "\n",
        "3.   Split the data into training and testing sets to evaluate model performance on unseen data.\n",
        "\n",
        "4.   Trained a decision tree classifier using scikit-learn on the preprocessed Iris dataset.\n",
        "\n",
        "5.   Visualized the decision tree structure to interpret the model's decision-making process and understand feature importance.\n",
        "\n",
        "6.   Pruned the decision tree to prevent overfitting, optimizing its generalization to new data.\n",
        "\n",
        "7.   Evaluated the model using classification metrics such as accuracy, precision, recall, and F1-score to assess its performance.\n",
        "\n",
        "8.   Plotted the decision tree to provide clear insights into feature importance and class separation logic.\n",
        "```\n",
        "\n",
        "---\n",
        "\n",
        "**These steps ensured the data was properly prepared and the decision tree model was thoroughly evaluated, providing valuable insights into the classification of Iris species.**"
      ]
    }
  ],
  "metadata": {
    "colab": {
      "provenance": []
    },
    "kernelspec": {
      "display_name": "base",
      "language": "python",
      "name": "python3"
    },
    "language_info": {
      "codemirror_mode": {
        "name": "ipython",
        "version": 3
      },
      "file_extension": ".py",
      "mimetype": "text/x-python",
      "name": "python",
      "nbconvert_exporter": "python",
      "pygments_lexer": "ipython3",
      "version": "3.12.4"
    }
  },
  "nbformat": 4,
  "nbformat_minor": 5
}
